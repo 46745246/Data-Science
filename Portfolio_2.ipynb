{
 "cells": [
  {
   "cell_type": "markdown",
   "id": "e4aef348",
   "metadata": {},
   "source": [
    "## Portfolio 2: Classification Models for Predicting User Ratings\n",
    "\n",
    "This project involves building and evaluating classification models to predict whether a user likes or dislikes an item based on other features in the dataset.\n",
    "\n",
    "### Dataset Overview\n",
    "\n",
    "**Fields Description:**  \n",
    "- `userId`: Unique identifier for the user.  \n",
    "- `timestamp`: Time when the user rated the item.  \n",
    "- `review`: User’s review comments.  \n",
    "- `item`: Name of the item.  \n",
    "- `rating`: Indicates if the user liked or disliked the item.  \n",
    "- `helpfulness`: Average score indicating how helpful the review is (6 = helpful, 0 = not helpful).  \n",
    "- `gender`: Gender of the user (`F` for female, `M` for male).  \n",
    "- `category`: Category of the shopping item.  \n",
    "\n",
    "### Project Objectives\n",
    "\n",
    "The goal of this project is to determine the best-performing model for predicting user ratings. The workflow includes the following steps:\n",
    "\n",
    "1. **Data Exploration and Cleaning**  \n",
    "   - Remove abnormal instances and handle missing values.\n",
    "\n",
    "2. **Feature Encoding**  \n",
    "   - Convert categorical features into numerical values using encoding techniques.\n",
    "\n",
    "3. **Feature Correlation Analysis**  \n",
    "   - Analyze correlations between features to identify key predictors.\n",
    "\n",
    "4. **Model Training and Evaluation**  \n",
    "   - Train a **logistic regression model** on the dataset split and evaluate its accuracy in predicting `rating`.  \n",
    "   - Train a **K-Nearest Neighbors (KNN) model** and assess its performance.\n",
    "\n",
    "5. **Hyperparameter Tuning**  \n",
    "   - Optimize the hyperparameter `K` in the KNN model to understand its impact on prediction accuracy.\n",
    "\n",
    "This project demonstrates skills in data preprocessing, feature engineering, model development, and evaluation, showcasing the ability to effectively use classification techniques for predictive analysis."
   ]
  },
  {
   "cell_type": "code",
   "execution_count": 124,
   "id": "47be0d08",
   "metadata": {},
   "outputs": [],
   "source": [
    "# Import essential libraries\n",
    "import pandas as pd\n",
    "import numpy as np \n",
    "\n",
    "# Visualization libraries\n",
    "import seaborn as sns  \n",
    "import matplotlib.pyplot as plt  \n",
    "%matplotlib inline \n",
    "\n",
    "# Scikit-learn modules for data preprocessing, modeling, and evaluation\n",
    "from sklearn.model_selection import train_test_split, GridSearchCV  # Data splitting and validation\n",
    "from sklearn.preprocessing import OrdinalEncoder  # Encoding categorical features\n",
    "from sklearn.feature_selection import RFE  # Recursive feature elimination for feature selection\n",
    "from sklearn.feature_extraction.text import TfidfVectorizer  # Text feature extraction\n",
    "\n",
    "# Machine Learning models\n",
    "from sklearn.linear_model import LogisticRegression  # Logistic regression classifier\n",
    "from sklearn import linear_model  # Additional linear models\n",
    "from sklearn.neighbors import KNeighborsClassifier  # K-Nearest Neighbors classifier\n",
    "from sklearn.cluster import KMeans  # K-means clustering\n",
    "\n",
    "# Evaluation metrics\n",
    "from sklearn.metrics import (\n",
    "    r2_score, \n",
    "    mean_squared_error, \n",
    "    confusion_matrix, \n",
    "    accuracy_score, \n",
    "    classification_report, \n",
    "    pairwise_distances\n",
    ")  \n",
    "\n",
    "# Libraries for hierarchical clustering\n",
    "from scipy.cluster.hierarchy import linkage, dendrogram, cut_tree\n",
    "from scipy.spatial.distance import pdist  \n",
    "\n",
    "\n",
    "import warnings\n",
    "warnings.filterwarnings('ignore')"
   ]
  },
  {
   "cell_type": "code",
   "execution_count": 125,
   "id": "84c57251",
   "metadata": {},
   "outputs": [
    {
     "data": {
      "text/html": [
       "<div>\n",
       "<style scoped>\n",
       "    .dataframe tbody tr th:only-of-type {\n",
       "        vertical-align: middle;\n",
       "    }\n",
       "\n",
       "    .dataframe tbody tr th {\n",
       "        vertical-align: top;\n",
       "    }\n",
       "\n",
       "    .dataframe thead th {\n",
       "        text-align: right;\n",
       "    }\n",
       "</style>\n",
       "<table border=\"1\" class=\"dataframe\">\n",
       "  <thead>\n",
       "    <tr style=\"text-align: right;\">\n",
       "      <th></th>\n",
       "      <th>userId</th>\n",
       "      <th>timestamp</th>\n",
       "      <th>review</th>\n",
       "      <th>item</th>\n",
       "      <th>rating</th>\n",
       "      <th>helpfulness</th>\n",
       "      <th>gender</th>\n",
       "      <th>category</th>\n",
       "    </tr>\n",
       "  </thead>\n",
       "  <tbody>\n",
       "    <tr>\n",
       "      <th>0</th>\n",
       "      <td>4259</td>\n",
       "      <td>11900</td>\n",
       "      <td>Finally, Something for (Relatively) Nothing</td>\n",
       "      <td>MyPoints.com</td>\n",
       "      <td>like</td>\n",
       "      <td>4</td>\n",
       "      <td>F</td>\n",
       "      <td>Online Stores &amp; Services</td>\n",
       "    </tr>\n",
       "    <tr>\n",
       "      <th>1</th>\n",
       "      <td>4259</td>\n",
       "      <td>12000</td>\n",
       "      <td>Shocking!</td>\n",
       "      <td>Sixth Sense</td>\n",
       "      <td>like</td>\n",
       "      <td>4</td>\n",
       "      <td>F</td>\n",
       "      <td>Movies</td>\n",
       "    </tr>\n",
       "    <tr>\n",
       "      <th>2</th>\n",
       "      <td>4259</td>\n",
       "      <td>12000</td>\n",
       "      <td>Simply Shaggadelic!</td>\n",
       "      <td>Austin Powers: The Spy Who Shagged Me</td>\n",
       "      <td>like</td>\n",
       "      <td>4</td>\n",
       "      <td>F</td>\n",
       "      <td>Movies</td>\n",
       "    </tr>\n",
       "    <tr>\n",
       "      <th>3</th>\n",
       "      <td>4259</td>\n",
       "      <td>12000</td>\n",
       "      <td>Better Than The First!</td>\n",
       "      <td>Toy Story 2</td>\n",
       "      <td>like</td>\n",
       "      <td>3</td>\n",
       "      <td>F</td>\n",
       "      <td>Movies</td>\n",
       "    </tr>\n",
       "    <tr>\n",
       "      <th>4</th>\n",
       "      <td>4259</td>\n",
       "      <td>12000</td>\n",
       "      <td>Blair Witch made me appreciate this</td>\n",
       "      <td>Star Wars Episode I: The Phantom Menace</td>\n",
       "      <td>dislike</td>\n",
       "      <td>4</td>\n",
       "      <td>F</td>\n",
       "      <td>Movies</td>\n",
       "    </tr>\n",
       "    <tr>\n",
       "      <th>5</th>\n",
       "      <td>4259</td>\n",
       "      <td>12100</td>\n",
       "      <td>Come here at least once in your life... stay a...</td>\n",
       "      <td>New York City</td>\n",
       "      <td>like</td>\n",
       "      <td>4</td>\n",
       "      <td>F</td>\n",
       "      <td>Hotels &amp; Travel</td>\n",
       "    </tr>\n",
       "    <tr>\n",
       "      <th>6</th>\n",
       "      <td>4259</td>\n",
       "      <td>12400</td>\n",
       "      <td>I joined for the free camera, and stood for no...</td>\n",
       "      <td>Earthlink</td>\n",
       "      <td>like</td>\n",
       "      <td>3</td>\n",
       "      <td>F</td>\n",
       "      <td>Online Stores &amp; Services</td>\n",
       "    </tr>\n",
       "    <tr>\n",
       "      <th>7</th>\n",
       "      <td>4259</td>\n",
       "      <td>12700</td>\n",
       "      <td>They Should've Fooled the American Public</td>\n",
       "      <td>Blair Witch Project</td>\n",
       "      <td>dislike</td>\n",
       "      <td>4</td>\n",
       "      <td>F</td>\n",
       "      <td>Movies</td>\n",
       "    </tr>\n",
       "    <tr>\n",
       "      <th>8</th>\n",
       "      <td>4259</td>\n",
       "      <td>51600</td>\n",
       "      <td>A Short List of Things to Remember in NYC</td>\n",
       "      <td>New York City</td>\n",
       "      <td>like</td>\n",
       "      <td>4</td>\n",
       "      <td>F</td>\n",
       "      <td>Hotels &amp; Travel</td>\n",
       "    </tr>\n",
       "    <tr>\n",
       "      <th>9</th>\n",
       "      <td>4259</td>\n",
       "      <td>60200</td>\n",
       "      <td>Do you know what a metaphysical can of worms t...</td>\n",
       "      <td>Being John Malkovich</td>\n",
       "      <td>like</td>\n",
       "      <td>4</td>\n",
       "      <td>F</td>\n",
       "      <td>Movies</td>\n",
       "    </tr>\n",
       "  </tbody>\n",
       "</table>\n",
       "</div>"
      ],
      "text/plain": [
       "   userId  timestamp                                             review  \\\n",
       "0    4259      11900        Finally, Something for (Relatively) Nothing   \n",
       "1    4259      12000                                          Shocking!   \n",
       "2    4259      12000                                Simply Shaggadelic!   \n",
       "3    4259      12000                             Better Than The First!   \n",
       "4    4259      12000                Blair Witch made me appreciate this   \n",
       "5    4259      12100  Come here at least once in your life... stay a...   \n",
       "6    4259      12400  I joined for the free camera, and stood for no...   \n",
       "7    4259      12700          They Should've Fooled the American Public   \n",
       "8    4259      51600          A Short List of Things to Remember in NYC   \n",
       "9    4259      60200  Do you know what a metaphysical can of worms t...   \n",
       "\n",
       "                                      item   rating  helpfulness gender  \\\n",
       "0                             MyPoints.com     like            4      F   \n",
       "1                              Sixth Sense     like            4      F   \n",
       "2    Austin Powers: The Spy Who Shagged Me     like            4      F   \n",
       "3                              Toy Story 2     like            3      F   \n",
       "4  Star Wars Episode I: The Phantom Menace  dislike            4      F   \n",
       "5                            New York City     like            4      F   \n",
       "6                                Earthlink     like            3      F   \n",
       "7                      Blair Witch Project  dislike            4      F   \n",
       "8                            New York City     like            4      F   \n",
       "9                     Being John Malkovich     like            4      F   \n",
       "\n",
       "                   category  \n",
       "0  Online Stores & Services  \n",
       "1                    Movies  \n",
       "2                    Movies  \n",
       "3                    Movies  \n",
       "4                    Movies  \n",
       "5           Hotels & Travel  \n",
       "6  Online Stores & Services  \n",
       "7                    Movies  \n",
       "8           Hotels & Travel  \n",
       "9                    Movies  "
      ]
     },
     "execution_count": 125,
     "metadata": {},
     "output_type": "execute_result"
    }
   ],
   "source": [
    "# Read the csv file\n",
    "df = pd.read_csv('Data/Portfolio 2.csv')\n",
    "df.head(10)"
   ]
  },
  {
   "cell_type": "code",
   "execution_count": 126,
   "id": "bea32e93",
   "metadata": {},
   "outputs": [
    {
     "name": "stdout",
     "output_type": "stream",
     "text": [
      "The shape of the DataFrame is: (2899, 8)\n",
      "\n",
      "DataFrame Information:\n",
      "<class 'pandas.core.frame.DataFrame'>\n",
      "RangeIndex: 2899 entries, 0 to 2898\n",
      "Data columns (total 8 columns):\n",
      " #   Column       Non-Null Count  Dtype \n",
      "---  ------       --------------  ----- \n",
      " 0   userId       2899 non-null   int64 \n",
      " 1   timestamp    2899 non-null   int64 \n",
      " 2   review       2899 non-null   object\n",
      " 3   item         2899 non-null   object\n",
      " 4   rating       2899 non-null   object\n",
      " 5   helpfulness  2899 non-null   int64 \n",
      " 6   gender       2899 non-null   object\n",
      " 7   category     2899 non-null   object\n",
      "dtypes: int64(3), object(5)\n",
      "memory usage: 181.3+ KB\n"
     ]
    }
   ],
   "source": [
    "# Display the shape and information of the DataFrame\n",
    "print(f\"The shape of the DataFrame is: {df.shape}\")\n",
    "print(\"\\nDataFrame Information:\")\n",
    "df.info()"
   ]
  },
  {
   "cell_type": "code",
   "execution_count": 127,
   "id": "a252c7ff",
   "metadata": {},
   "outputs": [
    {
     "data": {
      "text/plain": [
       "userId         0\n",
       "timestamp      0\n",
       "review         0\n",
       "item           0\n",
       "rating         0\n",
       "helpfulness    0\n",
       "gender         0\n",
       "category       0\n",
       "dtype: int64"
      ]
     },
     "execution_count": 127,
     "metadata": {},
     "output_type": "execute_result"
    }
   ],
   "source": [
    "# Handle NaN values in the data\n",
    "df.isna().sum()"
   ]
  },
  {
   "cell_type": "markdown",
   "id": "830b7daa",
   "metadata": {},
   "source": [
    "Dataframe does not appear to contain any NaN values. Therefore, no changes to the dataframe are required "
   ]
  },
  {
   "cell_type": "code",
   "execution_count": 128,
   "id": "8ab57786",
   "metadata": {},
   "outputs": [
    {
     "data": {
      "text/html": [
       "<div>\n",
       "<style scoped>\n",
       "    .dataframe tbody tr th:only-of-type {\n",
       "        vertical-align: middle;\n",
       "    }\n",
       "\n",
       "    .dataframe tbody tr th {\n",
       "        vertical-align: top;\n",
       "    }\n",
       "\n",
       "    .dataframe thead th {\n",
       "        text-align: right;\n",
       "    }\n",
       "</style>\n",
       "<table border=\"1\" class=\"dataframe\">\n",
       "  <thead>\n",
       "    <tr style=\"text-align: right;\">\n",
       "      <th></th>\n",
       "      <th>userId</th>\n",
       "      <th>timestamp</th>\n",
       "      <th>review</th>\n",
       "      <th>item</th>\n",
       "      <th>rating</th>\n",
       "      <th>helpfulness</th>\n",
       "      <th>gender</th>\n",
       "      <th>category</th>\n",
       "    </tr>\n",
       "  </thead>\n",
       "  <tbody>\n",
       "    <tr>\n",
       "      <th>0</th>\n",
       "      <td>4259</td>\n",
       "      <td>11900</td>\n",
       "      <td>856</td>\n",
       "      <td>43</td>\n",
       "      <td>1</td>\n",
       "      <td>4</td>\n",
       "      <td>0</td>\n",
       "      <td>6</td>\n",
       "    </tr>\n",
       "    <tr>\n",
       "      <th>1</th>\n",
       "      <td>4259</td>\n",
       "      <td>12000</td>\n",
       "      <td>1985</td>\n",
       "      <td>62</td>\n",
       "      <td>1</td>\n",
       "      <td>4</td>\n",
       "      <td>0</td>\n",
       "      <td>5</td>\n",
       "    </tr>\n",
       "    <tr>\n",
       "      <th>2</th>\n",
       "      <td>4259</td>\n",
       "      <td>12000</td>\n",
       "      <td>2006</td>\n",
       "      <td>9</td>\n",
       "      <td>1</td>\n",
       "      <td>4</td>\n",
       "      <td>0</td>\n",
       "      <td>5</td>\n",
       "    </tr>\n",
       "    <tr>\n",
       "      <th>3</th>\n",
       "      <td>4259</td>\n",
       "      <td>12000</td>\n",
       "      <td>472</td>\n",
       "      <td>77</td>\n",
       "      <td>1</td>\n",
       "      <td>3</td>\n",
       "      <td>0</td>\n",
       "      <td>5</td>\n",
       "    </tr>\n",
       "    <tr>\n",
       "      <th>4</th>\n",
       "      <td>4259</td>\n",
       "      <td>12000</td>\n",
       "      <td>493</td>\n",
       "      <td>68</td>\n",
       "      <td>0</td>\n",
       "      <td>4</td>\n",
       "      <td>0</td>\n",
       "      <td>5</td>\n",
       "    </tr>\n",
       "    <tr>\n",
       "      <th>5</th>\n",
       "      <td>4259</td>\n",
       "      <td>12100</td>\n",
       "      <td>599</td>\n",
       "      <td>47</td>\n",
       "      <td>1</td>\n",
       "      <td>4</td>\n",
       "      <td>0</td>\n",
       "      <td>2</td>\n",
       "    </tr>\n",
       "    <tr>\n",
       "      <th>6</th>\n",
       "      <td>4259</td>\n",
       "      <td>12400</td>\n",
       "      <td>1232</td>\n",
       "      <td>23</td>\n",
       "      <td>1</td>\n",
       "      <td>3</td>\n",
       "      <td>0</td>\n",
       "      <td>6</td>\n",
       "    </tr>\n",
       "    <tr>\n",
       "      <th>7</th>\n",
       "      <td>4259</td>\n",
       "      <td>12700</td>\n",
       "      <td>2415</td>\n",
       "      <td>12</td>\n",
       "      <td>0</td>\n",
       "      <td>4</td>\n",
       "      <td>0</td>\n",
       "      <td>5</td>\n",
       "    </tr>\n",
       "    <tr>\n",
       "      <th>8</th>\n",
       "      <td>4259</td>\n",
       "      <td>51600</td>\n",
       "      <td>136</td>\n",
       "      <td>47</td>\n",
       "      <td>1</td>\n",
       "      <td>4</td>\n",
       "      <td>0</td>\n",
       "      <td>2</td>\n",
       "    </tr>\n",
       "    <tr>\n",
       "      <th>9</th>\n",
       "      <td>4259</td>\n",
       "      <td>60200</td>\n",
       "      <td>692</td>\n",
       "      <td>11</td>\n",
       "      <td>1</td>\n",
       "      <td>4</td>\n",
       "      <td>0</td>\n",
       "      <td>5</td>\n",
       "    </tr>\n",
       "  </tbody>\n",
       "</table>\n",
       "</div>"
      ],
      "text/plain": [
       "   userId  timestamp  review  item  rating  helpfulness  gender  category\n",
       "0    4259      11900     856    43       1            4       0         6\n",
       "1    4259      12000    1985    62       1            4       0         5\n",
       "2    4259      12000    2006     9       1            4       0         5\n",
       "3    4259      12000     472    77       1            3       0         5\n",
       "4    4259      12000     493    68       0            4       0         5\n",
       "5    4259      12100     599    47       1            4       0         2\n",
       "6    4259      12400    1232    23       1            3       0         6\n",
       "7    4259      12700    2415    12       0            4       0         5\n",
       "8    4259      51600     136    47       1            4       0         2\n",
       "9    4259      60200     692    11       1            4       0         5"
      ]
     },
     "execution_count": 128,
     "metadata": {},
     "output_type": "execute_result"
    }
   ],
   "source": [
    "# Convert categorical values into numerical values\n",
    "ord_enc = OrdinalEncoder(dtype=int)\n",
    "df[[\"review\", \"item\", \"rating\", \"gender\", \"category\"]] = ord_enc.fit_transform(df[[\"review\", \"item\", \"rating\", \"gender\", \"category\"]])\n",
    "df.head(10)"
   ]
  },
  {
   "cell_type": "code",
   "execution_count": 129,
   "id": "641e6e97",
   "metadata": {},
   "outputs": [
    {
     "data": {
      "image/png": "[encoded data removed]",
      "text/plain": [
       "<Figure size 864x432 with 2 Axes>"
      ]
     },
     "metadata": {
      "needs_background": "light"
     },
     "output_type": "display_data"
    }
   ],
   "source": [
    "# Plot the distribution of categories and ratings\n",
    "plt.figure(figsize=(12, 6))\n",
    "\n",
    "# Plot the number of positive and negative feedback\n",
    "plt.subplot(1, 2, 1)\n",
    "sns.countplot(data=df, x='category', palette='viridis')\n",
    "plt.title(\"Count of Feedback by Category\")\n",
    "plt.xlabel(\"Category\")\n",
    "plt.ylabel(\"Count\")\n",
    "plt.xticks(rotation=45)\n",
    "\n",
    "# Plot the count of ratings\n",
    "plt.subplot(1, 2, 2)\n",
    "sns.countplot(data=df, x='rating', palette='muted')\n",
    "plt.title(\"Distribution of Ratings\")\n",
    "plt.xlabel(\"Rating\")\n",
    "plt.ylabel(\"Count\")\n",
    "\n",
    "# Adjust layout\n",
    "plt.tight_layout()\n",
    "plt.show()"
   ]
  },
  {
   "cell_type": "markdown",
   "id": "47888b63",
   "metadata": {},
   "source": [
    "**Overview**\n",
    "1. The disproportionate distribution of feedback across categories suggests potential user preferences or popularity trends, with certain categories receiving significantly more attention than others.  \n",
    "\n",
    "2. The dominance of positive ratings might indicate either a bias in user behavior or a genuinely high level of satisfaction with the items reviewed."
   ]
  },
  {
   "cell_type": "markdown",
   "id": "5160d1d8",
   "metadata": {},
   "source": [
    "## Correlation between Features and Target Variable"
   ]
  },
  {
   "cell_type": "code",
   "execution_count": 130,
   "id": "b53cfcb1",
   "metadata": {},
   "outputs": [
    {
     "data": {
      "text/html": [
       "<div>\n",
       "<style scoped>\n",
       "    .dataframe tbody tr th:only-of-type {\n",
       "        vertical-align: middle;\n",
       "    }\n",
       "\n",
       "    .dataframe tbody tr th {\n",
       "        vertical-align: top;\n",
       "    }\n",
       "\n",
       "    .dataframe thead th {\n",
       "        text-align: right;\n",
       "    }\n",
       "</style>\n",
       "<table border=\"1\" class=\"dataframe\">\n",
       "  <thead>\n",
       "    <tr style=\"text-align: right;\">\n",
       "      <th></th>\n",
       "      <th>userId</th>\n",
       "      <th>timestamp</th>\n",
       "      <th>review</th>\n",
       "      <th>item</th>\n",
       "      <th>rating</th>\n",
       "      <th>helpfulness</th>\n",
       "      <th>gender</th>\n",
       "      <th>category</th>\n",
       "    </tr>\n",
       "  </thead>\n",
       "  <tbody>\n",
       "    <tr>\n",
       "      <th>userId</th>\n",
       "      <td>1.000000</td>\n",
       "      <td>-0.036399</td>\n",
       "      <td>0.013212</td>\n",
       "      <td>-0.002618</td>\n",
       "      <td>0.010844</td>\n",
       "      <td>-0.016841</td>\n",
       "      <td>0.056183</td>\n",
       "      <td>0.015408</td>\n",
       "    </tr>\n",
       "    <tr>\n",
       "      <th>timestamp</th>\n",
       "      <td>-0.036399</td>\n",
       "      <td>1.000000</td>\n",
       "      <td>-0.025036</td>\n",
       "      <td>0.024337</td>\n",
       "      <td>0.011579</td>\n",
       "      <td>0.003638</td>\n",
       "      <td>-0.049244</td>\n",
       "      <td>0.037118</td>\n",
       "    </tr>\n",
       "    <tr>\n",
       "      <th>review</th>\n",
       "      <td>0.013212</td>\n",
       "      <td>-0.025036</td>\n",
       "      <td>1.000000</td>\n",
       "      <td>0.168119</td>\n",
       "      <td>-0.046935</td>\n",
       "      <td>0.016170</td>\n",
       "      <td>-0.014422</td>\n",
       "      <td>0.012047</td>\n",
       "    </tr>\n",
       "    <tr>\n",
       "      <th>item</th>\n",
       "      <td>-0.002618</td>\n",
       "      <td>0.024337</td>\n",
       "      <td>0.168119</td>\n",
       "      <td>1.000000</td>\n",
       "      <td>0.013629</td>\n",
       "      <td>-0.010780</td>\n",
       "      <td>0.006231</td>\n",
       "      <td>-0.054699</td>\n",
       "    </tr>\n",
       "    <tr>\n",
       "      <th>rating</th>\n",
       "      <td>0.010844</td>\n",
       "      <td>0.011579</td>\n",
       "      <td>-0.046935</td>\n",
       "      <td>0.013629</td>\n",
       "      <td>1.000000</td>\n",
       "      <td>-0.016850</td>\n",
       "      <td>0.022576</td>\n",
       "      <td>-0.116312</td>\n",
       "    </tr>\n",
       "    <tr>\n",
       "      <th>helpfulness</th>\n",
       "      <td>-0.016841</td>\n",
       "      <td>0.003638</td>\n",
       "      <td>0.016170</td>\n",
       "      <td>-0.010780</td>\n",
       "      <td>-0.016850</td>\n",
       "      <td>1.000000</td>\n",
       "      <td>-0.046627</td>\n",
       "      <td>-0.000189</td>\n",
       "    </tr>\n",
       "    <tr>\n",
       "      <th>gender</th>\n",
       "      <td>0.056183</td>\n",
       "      <td>-0.049244</td>\n",
       "      <td>-0.014422</td>\n",
       "      <td>0.006231</td>\n",
       "      <td>0.022576</td>\n",
       "      <td>-0.046627</td>\n",
       "      <td>1.000000</td>\n",
       "      <td>-0.017644</td>\n",
       "    </tr>\n",
       "    <tr>\n",
       "      <th>category</th>\n",
       "      <td>0.015408</td>\n",
       "      <td>0.037118</td>\n",
       "      <td>0.012047</td>\n",
       "      <td>-0.054699</td>\n",
       "      <td>-0.116312</td>\n",
       "      <td>-0.000189</td>\n",
       "      <td>-0.017644</td>\n",
       "      <td>1.000000</td>\n",
       "    </tr>\n",
       "  </tbody>\n",
       "</table>\n",
       "</div>"
      ],
      "text/plain": [
       "               userId  timestamp    review      item    rating  helpfulness  \\\n",
       "userId       1.000000  -0.036399  0.013212 -0.002618  0.010844    -0.016841   \n",
       "timestamp   -0.036399   1.000000 -0.025036  0.024337  0.011579     0.003638   \n",
       "review       0.013212  -0.025036  1.000000  0.168119 -0.046935     0.016170   \n",
       "item        -0.002618   0.024337  0.168119  1.000000  0.013629    -0.010780   \n",
       "rating       0.010844   0.011579 -0.046935  0.013629  1.000000    -0.016850   \n",
       "helpfulness -0.016841   0.003638  0.016170 -0.010780 -0.016850     1.000000   \n",
       "gender       0.056183  -0.049244 -0.014422  0.006231  0.022576    -0.046627   \n",
       "category     0.015408   0.037118  0.012047 -0.054699 -0.116312    -0.000189   \n",
       "\n",
       "               gender  category  \n",
       "userId       0.056183  0.015408  \n",
       "timestamp   -0.049244  0.037118  \n",
       "review      -0.014422  0.012047  \n",
       "item         0.006231 -0.054699  \n",
       "rating       0.022576 -0.116312  \n",
       "helpfulness -0.046627 -0.000189  \n",
       "gender       1.000000 -0.017644  \n",
       "category    -0.017644  1.000000  "
      ]
     },
     "execution_count": 130,
     "metadata": {},
     "output_type": "execute_result"
    }
   ],
   "source": [
    "# Investigate the correlation between helpfulness/gender/category/review and rating\n",
    "df.corr()"
   ]
  },
  {
   "cell_type": "markdown",
   "id": "aed05d7b",
   "metadata": {},
   "source": [
    "**Observation**\n",
    "\n",
    "The analysis shows that category has the strongest connection to user ratings. On the other hand, factors like the timing of reviews and the user's gender are less relevant for understanding user preferences."
   ]
  },
  {
   "cell_type": "markdown",
   "id": "53cab1ad",
   "metadata": {},
   "source": [
    "---\n",
    "## Logistic Regression"
   ]
  },
  {
   "cell_type": "code",
   "execution_count": 131,
   "id": "60fac65a",
   "metadata": {},
   "outputs": [
    {
     "name": "stdout",
     "output_type": "stream",
     "text": [
      "X_train shape:  (2319, 7)\n",
      "y_train shape:  (2319,)\n",
      "X_test shape:  (580, 7)\n",
      "y_test.shape:  (580,)\n"
     ]
    }
   ],
   "source": [
    "# Split the data into training (80%) and testing data (20%)\n",
    "X_train, X_test, y_train, y_test = train_test_split(df.drop(['rating'], axis=1), df['rating'], stratify=df['rating'], test_size=.2, random_state=7)\n",
    "\n",
    "# Checking shapes of each\n",
    "print(\"X_train shape: \", X_train.shape)\n",
    "print(\"y_train shape: \", y_train.shape)\n",
    "print(\"X_test shape: \", X_test.shape)\n",
    "print(\"y_test.shape: \", y_test.shape)"
   ]
  },
  {
   "cell_type": "code",
   "execution_count": 132,
   "id": "2485e523",
   "metadata": {},
   "outputs": [
    {
     "name": "stdout",
     "output_type": "stream",
     "text": [
      "Accuracy on training set:  0.6369124622682191\n",
      "Accuracy on test set:  0.6344827586206897\n"
     ]
    }
   ],
   "source": [
    "# Training model with all features\n",
    "lr = LogisticRegression().fit(X_train, y_train)\n",
    "\n",
    "# Making predictions on training and test set\n",
    "y_pred_train = lr.predict(X_train)\n",
    "y_pred_test = lr.predict(X_test)\n",
    "\n",
    "# Calculating accuracy score on training set\n",
    "print(\"Accuracy on training set: \", accuracy_score(y_train, y_pred_train))\n",
    "\n",
    "# Calculating accuracy score on test set\n",
    "print(\"Accuracy on test set: \", accuracy_score(y_test, y_pred_test))"
   ]
  },
  {
   "cell_type": "markdown",
   "id": "6ff22b6a",
   "metadata": {},
   "source": [
    "The model performance is currently suboptimal, achieving only 63%, which is close to random guessing. To enhance performance, Recursive Feature Elimination (RFE) will be applied to identify the most important features and the model will be retrained using these selected features."
   ]
  },
  {
   "cell_type": "markdown",
   "id": "82c78a4e",
   "metadata": {},
   "source": [
    "---\n",
    "## Recursive Feature Estimation "
   ]
  },
  {
   "cell_type": "code",
   "execution_count": 133,
   "id": "b049515d",
   "metadata": {},
   "outputs": [
    {
     "name": "stdout",
     "output_type": "stream",
     "text": [
      "Selected features: Index(['userId', 'timestamp', 'review', 'item', 'helpfulness', 'gender',\n",
      "       'category'],\n",
      "      dtype='object')\n",
      "Coefficients:  [[ 1.37536840e-05  1.36390041e-06 -1.69848493e-04  1.89447790e-03\n",
      "   2.67496308e-01  7.21042805e-02 -1.11996606e-01]]\n"
     ]
    }
   ],
   "source": [
    "# Find the best number of features using RFE\n",
    "rfe = RFE(estimator=lr, n_features_to_select=7, step=1)\n",
    "rfe.fit(X_train, y_train)\n",
    "\n",
    "supp = rfe.get_support()\n",
    "print(\"Selected features:\", X_train.columns[supp])\n",
    "print(\"Coefficients: \", rfe.estimator_.coef_)"
   ]
  },
  {
   "cell_type": "code",
   "execution_count": 134,
   "id": "8e85cbfe",
   "metadata": {},
   "outputs": [
    {
     "name": "stdout",
     "output_type": "stream",
     "text": [
      "Best number of features: 5\n"
     ]
    }
   ],
   "source": [
    "# Estimating accuracy scores for different number of features\n",
    "acc_scores = []\n",
    "for i in range(1, 8):  # Try selecting from 1 to 7 features\n",
    "    selector = RFE(estimator=lr, n_features_to_select=i)\n",
    "    selector.fit(X_train, y_train)\n",
    "\n",
    "    # Predict using the selected features\n",
    "    X_test_selected = X_test.loc[:, selector.support_]\n",
    "    predicted = selector.estimator_.predict(X_test_selected)\n",
    "    \n",
    "    # Calculate and store the accuracy score\n",
    "    acc_score = accuracy_score(y_test, predicted)\n",
    "    acc_scores.append(acc_score)\n",
    "\n",
    "# Identify the best number of features based on accuracy scores\n",
    "best_num_features = acc_scores.index(max(acc_scores)) + 1\n",
    "print(\"Best number of features:\", best_num_features)"
   ]
  },
  {
   "cell_type": "code",
   "execution_count": 135,
   "id": "dcac0e1b",
   "metadata": {},
   "outputs": [
    {
     "data": {
      "image/png": "[encoded data removed]",
      "text/plain": [
       "<Figure size 432x288 with 1 Axes>"
      ]
     },
     "metadata": {
      "needs_background": "light"
     },
     "output_type": "display_data"
    }
   ],
   "source": [
    "# Plot the accuracy scores for different numbers of features\n",
    "plt.plot(range(1, 8), acc_scores)\n",
    "plt.xlabel('Number of features selected')\n",
    "plt.ylabel('Accuracy score')\n",
    "plt.title('Accuracy scores for different number of features')\n",
    "plt.show()"
   ]
  },
  {
   "cell_type": "code",
   "execution_count": 136,
   "id": "a5aa2332",
   "metadata": {},
   "outputs": [
    {
     "name": "stdout",
     "output_type": "stream",
     "text": [
      "Best features: Index(['review', 'item', 'helpfulness', 'gender', 'category'], dtype='object')\n"
     ]
    }
   ],
   "source": [
    "# Select and print the best features based on the best number of features\n",
    "rfe_best = RFE(estimator=lr, n_features_to_select=best_num_features)\n",
    "rfe_best.fit(X_train, y_train)\n",
    "best_features = X_train.columns[rfe_best.support_]\n",
    "print(\"Best features:\", best_features)"
   ]
  },
  {
   "cell_type": "markdown",
   "id": "a81ebdce",
   "metadata": {},
   "source": [
    "---\n",
    "## Re-train the Model with the Five Most Important Features"
   ]
  },
  {
   "cell_type": "code",
   "execution_count": 137,
   "id": "8440ecd8",
   "metadata": {},
   "outputs": [
    {
     "name": "stdout",
     "output_type": "stream",
     "text": [
      "X_train shape:  (2319, 5)\n",
      "y_train shape:  (2319,)\n",
      "X_test shape:  (580, 5)\n",
      "y_test.shape:  (580,)\n",
      "Accuracy on training set:  0.6382061233290212\n",
      "Accuracy on test set:  0.6396551724137931\n"
     ]
    }
   ],
   "source": [
    "# Split training and test sets\n",
    "X_train, X_test, y_train, y_test = train_test_split(df.drop(['rating', 'userId', 'timestamp'], axis=1), df['rating'], stratify=df['rating'], test_size=.2, random_state=7)\n",
    "\n",
    "# Checking shapes of each\n",
    "print(\"X_train shape: \", X_train.shape)\n",
    "print(\"y_train shape: \", y_train.shape)\n",
    "print(\"X_test shape: \", X_test.shape)\n",
    "print(\"y_test.shape: \", y_test.shape)\n",
    "\n",
    "# Training model with the top-5 features\n",
    "lr = LogisticRegression().fit(X_train, y_train)\n",
    "\n",
    "# making predictions on training and test set\n",
    "y_pred_train = lr.predict(X_train)\n",
    "y_pred_test = lr.predict(X_test)\n",
    "\n",
    "# calculating accuracy score on training set\n",
    "print(\"Accuracy on training set: \", accuracy_score(y_train, y_pred_train))\n",
    "\n",
    "# calculating accuracy score on test set\n",
    "print(\"Accuracy on test set: \", accuracy_score(y_test, y_pred_test))"
   ]
  },
  {
   "cell_type": "markdown",
   "id": "72e2d76e",
   "metadata": {},
   "source": [
    "**Observation**\n",
    "\n",
    "The small difference in accuracy between the training and testing sets suggests that the model is not overfitting. While excluding irrelevant features slightly improved accuracy, the performance of the logistic regression model remains unsatisfactory. The next step is to train a more advanced K-Nearest Neighbors (KNN) model to assess if it yields better results."
   ]
  },
  {
   "cell_type": "markdown",
   "id": "2b846c15",
   "metadata": {},
   "source": [
    "---\n",
    "## K-Nearest Neighbors"
   ]
  },
  {
   "cell_type": "code",
   "execution_count": 138,
   "id": "592a26cd",
   "metadata": {},
   "outputs": [],
   "source": [
    "# Split training and test sets based on the important features\n",
    "X_train2, X_test2, y_train2, y_test2 = train_test_split(df.drop(['rating', 'userId', 'timestamp'], axis=1), df['rating'], stratify=df['rating'], test_size=.2, random_state=7)"
   ]
  },
  {
   "cell_type": "code",
   "execution_count": 139,
   "id": "dab1d540",
   "metadata": {},
   "outputs": [
    {
     "name": "stdout",
     "output_type": "stream",
     "text": [
      "Best K value:  35\n",
      "The accuracy is : 0.6373488580385132\n"
     ]
    }
   ],
   "source": [
    "# Define the search space for the hyperparameter\n",
    "parameter_grid = {'n_neighbors': range(1, 41)}\n",
    "\n",
    "# Create the KNN classifier\n",
    "knn_clf = KNeighborsClassifier()\n",
    "\n",
    "# Perform Grid Search with 10-fold cross-validation\n",
    "grid_search = GridSearchCV(KNeighborsClassifier(), parameter_grid, scoring='accuracy', cv=10)\n",
    "grid_search.fit(X_train2, y_train2)\n",
    "\n",
    "# Identify the best hyperparameter value\n",
    "print('Best K value: ', grid_search.best_params_['n_neighbors'])\n",
    "print('The accuracy is :', grid_search.best_score_)"
   ]
  },
  {
   "cell_type": "markdown",
   "id": "f5e8002b",
   "metadata": {},
   "source": [
    "The model achieves an accuracy score of 0.6373 with \\( K = 35 \\), indicating a 63.73% likelihood of correctly predicting ratings on the testing set."
   ]
  },
  {
   "cell_type": "code",
   "execution_count": 148,
   "id": "0de1f33c",
   "metadata": {},
   "outputs": [
    {
     "name": "stdout",
     "output_type": "stream",
     "text": [
      "The accuracy is : 0.6068965517241379\n"
     ]
    }
   ],
   "source": [
    "# Testing accuracy \n",
    "knn_clf = KNeighborsClassifier(n_neighbors=grid_search.best_params_['n_neighbors'])\n",
    "knn_clf.fit(X_train2, y_train2)\n",
    "print('The accuracy is :', accuracy_score(y_test2, knn_clf.predict(X_test2)))"
   ]
  },
  {
   "cell_type": "code",
   "execution_count": 140,
   "id": "c9ede4eb",
   "metadata": {},
   "outputs": [
    {
     "data": {
      "image/png": "[encoded data removed]",
      "text/plain": [
       "<Figure size 432x288 with 1 Axes>"
      ]
     },
     "metadata": {
      "needs_background": "light"
     },
     "output_type": "display_data"
    }
   ],
   "source": [
    "# Evaluate errors for different values of K\n",
    "training_error, testing_error = [], []\n",
    "\n",
    "# Loop to compute errors for different values of K (from 1 to 40)\n",
    "for i in range(1, 41):\n",
    "    clf = KNeighborsClassifier(n_neighbors=i)\n",
    "    clf.fit(X_train2, y_train2)\n",
    "    training_error.append(1.0 - accuracy_score(clf.predict(X_train2), y_train2))\n",
    "    testing_error.append(1.0 - accuracy_score(clf.predict(X_test2), y_test2))\n",
    "\n",
    "# Plot training and testing errors\n",
    "plt.plot(range(1, 41), training_error, marker='x', label='Training Error')\n",
    "plt.plot(range(1, 41), testing_error, marker='o', label='Testing Error')\n",
    "plt.xlabel('K (Number of Neighbors)')\n",
    "plt.ylabel('Error')\n",
    "plt.title('Training and Testing Error vs K')\n",
    "plt.legend(loc='best')\n",
    "plt.show()"
   ]
  },
  {
   "cell_type": "markdown",
   "id": "60d7d84d",
   "metadata": {},
   "source": [
    "---\n",
    "## Confusion Matrix Comparison"
   ]
  },
  {
   "cell_type": "code",
   "execution_count": 147,
   "id": "670cb280",
   "metadata": {},
   "outputs": [
    {
     "data": {
      "image/png": "[encoded data removed]",
      "text/plain": [
       "<Figure size 1008x504 with 2 Axes>"
      ]
     },
     "metadata": {
      "needs_background": "light"
     },
     "output_type": "display_data"
    }
   ],
   "source": [
    "# Logistic Regression Confusion Matrix\n",
    "y_pred_lr = lr.predict(X_test)\n",
    "cm_lr = confusion_matrix(y_test, y_pred_lr)\n",
    "\n",
    "# KNN Confusion Matrix\n",
    "knn_best_model = KNeighborsClassifier(n_neighbors=35)\n",
    "knn_best_model.fit(X_train2, y_train2)\n",
    "y_pred_knn = knn_best_model.predict(X_test2)\n",
    "cm_knn = confusion_matrix(y_test2, y_pred_knn)\n",
    "\n",
    "# Plotting the confusion matrices side by side\n",
    "fig, (ax1, ax2) = plt.subplots(1, 2, figsize=(14, 7))\n",
    "fig.suptitle(\"Confusion Matrix Comparison\", size=15)\n",
    "\n",
    "# Logistic Regression\n",
    "sns.heatmap(cm_lr, annot=True, fmt='d', cmap='Blues', ax=ax1, cbar=False)\n",
    "ax1.set_title('Logistic Regression Confusion Matrix')\n",
    "ax1.set_xlabel('Predicted')\n",
    "ax1.set_ylabel('Actual')\n",
    "\n",
    "# KNN\n",
    "sns.heatmap(cm_knn, annot=True, fmt='d', cmap='Blues', ax=ax2, cbar=False)\n",
    "ax2.set_title(f'KNN Confusion Matrix (K={35})')\n",
    "ax2.set_xlabel('Predicted')\n",
    "ax2.set_ylabel('Actual')\n",
    "\n",
    "plt.tight_layout()\n",
    "plt.show()"
   ]
  },
  {
   "cell_type": "markdown",
   "id": "e9c2c53f",
   "metadata": {},
   "source": [
    "**Observation**\n",
    "- KNN was better at predicting users who didn’t like the item (28 errors vs. 4 for Logistic Regression).\n",
    "- Logistic Regression outperformed KNN in predicting users who liked the item (367 correct predictions vs. 324).\n",
    "- KNN made more mistakes by incorrectly predicting users who didn’t like the item (46 errors vs. 3 for Logistic Regression).\n",
    "- Logistic Regression had more errors in predicting who liked the item (206 vs. 182 for KNN).\n",
    "\n",
    "---\n",
    "## Conclusion\n",
    "Logistic Regression seems to be more inclined to predict a positive rating based on the dataset, as it correctly identified more users who liked the item. \n",
    "While KNN performed better in detecting users who didn’t like the item, it made more false positive errors, suggesting it was more uncertain in predicting who would like the item.\n",
    "Overall, Logistic Regression performed better, with an accuracy 5% higher than KNN, making it the more reliable model for this dataset."
   ]
  }
 ],
 "metadata": {
  "kernelspec": {
   "display_name": "Python 3 (ipykernel)",
   "language": "python",
   "name": "python3"
  },
  "language_info": {
   "codemirror_mode": {
    "name": "ipython",
    "version": 3
   },
   "file_extension": ".py",
   "mimetype": "text/x-python",
   "name": "python",
   "nbconvert_exporter": "python",
   "pygments_lexer": "ipython3",
   "version": "3.9.12"
  }
 },
 "nbformat": 4,
 "nbformat_minor": 5
}
