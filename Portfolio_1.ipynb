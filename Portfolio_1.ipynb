{
 "cells": [
  {
   "cell_type": "markdown",
   "id": "7cb1739b",
   "metadata": {},
   "source": [
    "## Analysis of Epinions Dataset Part 2"
   ]
  },
  {
   "cell_type": "markdown",
   "id": "a3475190",
   "metadata": {},
   "source": [
    "The goal of the second analysis task is to train linear regression models to predict users' ratings towards items. This involves a standard Data Science workflow: exploring data, building models, making predictions, and evaluating results. In this task, we will explore the impacts of feature selections and different sizes of training/testing data on the model performance. We will use another cleaned Epinions sub-dataset that is different from the one in Portfolio 1. "
   ]
  },
  {
   "cell_type": "markdown",
   "id": "0883990c",
   "metadata": {},
   "source": [
    "### Import Cleaned Epinions Dataset\n",
    "The csv file named 'Epinions_cleaned_data_portfolio_2.csv'is provided. Please import the csv file (i.e., 'Epinions_cleaned_data_portfolio_2') and print out its total length."
   ]
  },
  {
   "cell_type": "code",
   "execution_count": 247,
   "id": "98fc06ee",
   "metadata": {},
   "outputs": [],
   "source": [
    "# import libraries\n",
    "import pandas as pd\n",
    "import numpy as np\n",
    "from sklearn.model_selection import train_test_split\n",
    "from sklearn import linear_model\n",
    "from sklearn.metrics import r2_score , mean_squared_error\n",
    "from sklearn.preprocessing import OrdinalEncoder\n",
    "import seaborn as sns\n",
    "import matplotlib.pylab as plt\n",
    "%matplotlib inline\n",
    "import math"
   ]
  },
  {
   "cell_type": "code",
   "execution_count": 248,
   "id": "99477e4e",
   "metadata": {},
   "outputs": [
    {
     "data": {
      "text/plain": [
       "2899"
      ]
     },
     "execution_count": 248,
     "metadata": {},
     "output_type": "execute_result"
    }
   ],
   "source": [
    "# import the cleaned data\n",
    "df=pd.read_csv('files/Epinions_cleaned_data_portfolio_2.csv')\n",
    "\n",
    "# print data's total length\n",
    "len(df)"
   ]
  },
  {
   "cell_type": "markdown",
   "id": "990be9e1",
   "metadata": {},
   "source": [
    "### Explore the Dataset\n",
    "\n",
    "* Use the methods, i.e., `head()` and `info()`, to have a rough picture about the data, e.g., how many columns, and the data types of each column. \n",
    "* As our goal is to predict ratings given other columns, please get the correlations between helpfulness/gender/category/review and rating by using the `corr()` method.\n",
    "* To get the correlations between different features, you may need to first convert the categorical features (i.e., gender, category and review) into numerial values. For doing this, you may need to import `OrdinalEncoder` from `sklearn.preprocessing` (refer to the useful exmaples [here](https://pbpython.com/categorical-encoding.html))\n",
    "* Please provide ___necessary explanations/analysis___ on the correlations, and figure out which are the ___most___ and ___least___ corrleated features regarding rating (positive or negative). Try to ___discuss___ how the correlation will affect the final prediction results, if we use these features to train a regression model for rating prediction. In what follows, we will conduct experiments to verify your hypothesis."
   ]
  },
  {
   "cell_type": "code",
   "execution_count": 249,
   "id": "313a75af",
   "metadata": {},
   "outputs": [
    {
     "data": {
      "text/html": [
       "<div>\n",
       "<style scoped>\n",
       "    .dataframe tbody tr th:only-of-type {\n",
       "        vertical-align: middle;\n",
       "    }\n",
       "\n",
       "    .dataframe tbody tr th {\n",
       "        vertical-align: top;\n",
       "    }\n",
       "\n",
       "    .dataframe thead th {\n",
       "        text-align: right;\n",
       "    }\n",
       "</style>\n",
       "<table border=\"1\" class=\"dataframe\">\n",
       "  <thead>\n",
       "    <tr style=\"text-align: right;\">\n",
       "      <th></th>\n",
       "      <th>userId</th>\n",
       "      <th>timestamp</th>\n",
       "      <th>review</th>\n",
       "      <th>item</th>\n",
       "      <th>rating</th>\n",
       "      <th>helpfulness</th>\n",
       "      <th>gender</th>\n",
       "      <th>category</th>\n",
       "    </tr>\n",
       "  </thead>\n",
       "  <tbody>\n",
       "    <tr>\n",
       "      <th>0</th>\n",
       "      <td>4259</td>\n",
       "      <td>11900</td>\n",
       "      <td>Finally, Something for (Relatively) Nothing</td>\n",
       "      <td>MyPoints.com</td>\n",
       "      <td>4.0</td>\n",
       "      <td>4.0</td>\n",
       "      <td>F</td>\n",
       "      <td>Online Stores &amp; Services</td>\n",
       "    </tr>\n",
       "    <tr>\n",
       "      <th>1</th>\n",
       "      <td>4259</td>\n",
       "      <td>12000</td>\n",
       "      <td>Shocking!</td>\n",
       "      <td>Sixth Sense</td>\n",
       "      <td>5.0</td>\n",
       "      <td>4.0</td>\n",
       "      <td>F</td>\n",
       "      <td>Movies</td>\n",
       "    </tr>\n",
       "    <tr>\n",
       "      <th>2</th>\n",
       "      <td>4259</td>\n",
       "      <td>12000</td>\n",
       "      <td>Simply Shaggadelic!</td>\n",
       "      <td>Austin Powers: The Spy Who Shagged Me</td>\n",
       "      <td>5.0</td>\n",
       "      <td>4.0</td>\n",
       "      <td>F</td>\n",
       "      <td>Movies</td>\n",
       "    </tr>\n",
       "    <tr>\n",
       "      <th>3</th>\n",
       "      <td>4259</td>\n",
       "      <td>12000</td>\n",
       "      <td>Better Than The First!</td>\n",
       "      <td>Toy Story 2</td>\n",
       "      <td>5.0</td>\n",
       "      <td>3.0</td>\n",
       "      <td>F</td>\n",
       "      <td>Movies</td>\n",
       "    </tr>\n",
       "    <tr>\n",
       "      <th>4</th>\n",
       "      <td>4259</td>\n",
       "      <td>12000</td>\n",
       "      <td>Blair Witch made me appreciate this</td>\n",
       "      <td>Star Wars Episode I: The Phantom Menace</td>\n",
       "      <td>2.0</td>\n",
       "      <td>4.0</td>\n",
       "      <td>F</td>\n",
       "      <td>Movies</td>\n",
       "    </tr>\n",
       "  </tbody>\n",
       "</table>\n",
       "</div>"
      ],
      "text/plain": [
       "   userId  timestamp                                       review  \\\n",
       "0    4259      11900  Finally, Something for (Relatively) Nothing   \n",
       "1    4259      12000                                    Shocking!   \n",
       "2    4259      12000                          Simply Shaggadelic!   \n",
       "3    4259      12000                       Better Than The First!   \n",
       "4    4259      12000          Blair Witch made me appreciate this   \n",
       "\n",
       "                                      item  rating  helpfulness gender  \\\n",
       "0                             MyPoints.com     4.0          4.0      F   \n",
       "1                              Sixth Sense     5.0          4.0      F   \n",
       "2    Austin Powers: The Spy Who Shagged Me     5.0          4.0      F   \n",
       "3                              Toy Story 2     5.0          3.0      F   \n",
       "4  Star Wars Episode I: The Phantom Menace     2.0          4.0      F   \n",
       "\n",
       "                   category  \n",
       "0  Online Stores & Services  \n",
       "1                    Movies  \n",
       "2                    Movies  \n",
       "3                    Movies  \n",
       "4                    Movies  "
      ]
     },
     "execution_count": 249,
     "metadata": {},
     "output_type": "execute_result"
    }
   ],
   "source": [
    "# Part 1\n",
    "df.head()"
   ]
  },
  {
   "cell_type": "code",
   "execution_count": 250,
   "id": "8a749f9c",
   "metadata": {},
   "outputs": [
    {
     "name": "stdout",
     "output_type": "stream",
     "text": [
      "<class 'pandas.core.frame.DataFrame'>\n",
      "RangeIndex: 2899 entries, 0 to 2898\n",
      "Data columns (total 8 columns):\n",
      " #   Column       Non-Null Count  Dtype  \n",
      "---  ------       --------------  -----  \n",
      " 0   userId       2899 non-null   int64  \n",
      " 1   timestamp    2899 non-null   int64  \n",
      " 2   review       2899 non-null   object \n",
      " 3   item         2899 non-null   object \n",
      " 4   rating       2899 non-null   float64\n",
      " 5   helpfulness  2899 non-null   float64\n",
      " 6   gender       2899 non-null   object \n",
      " 7   category     2899 non-null   object \n",
      "dtypes: float64(2), int64(2), object(4)\n",
      "memory usage: 181.3+ KB\n"
     ]
    }
   ],
   "source": [
    "# Part 1\n",
    "df.info()"
   ]
  },
  {
   "cell_type": "code",
   "execution_count": 251,
   "id": "78426d87",
   "metadata": {},
   "outputs": [
    {
     "data": {
      "text/html": [
       "<div>\n",
       "<style scoped>\n",
       "    .dataframe tbody tr th:only-of-type {\n",
       "        vertical-align: middle;\n",
       "    }\n",
       "\n",
       "    .dataframe tbody tr th {\n",
       "        vertical-align: top;\n",
       "    }\n",
       "\n",
       "    .dataframe thead th {\n",
       "        text-align: right;\n",
       "    }\n",
       "</style>\n",
       "<table border=\"1\" class=\"dataframe\">\n",
       "  <thead>\n",
       "    <tr style=\"text-align: right;\">\n",
       "      <th></th>\n",
       "      <th>review</th>\n",
       "      <th>item</th>\n",
       "      <th>gender</th>\n",
       "      <th>category</th>\n",
       "    </tr>\n",
       "  </thead>\n",
       "  <tbody>\n",
       "    <tr>\n",
       "      <th>0</th>\n",
       "      <td>Finally, Something for (Relatively) Nothing</td>\n",
       "      <td>MyPoints.com</td>\n",
       "      <td>F</td>\n",
       "      <td>Online Stores &amp; Services</td>\n",
       "    </tr>\n",
       "    <tr>\n",
       "      <th>1</th>\n",
       "      <td>Shocking!</td>\n",
       "      <td>Sixth Sense</td>\n",
       "      <td>F</td>\n",
       "      <td>Movies</td>\n",
       "    </tr>\n",
       "    <tr>\n",
       "      <th>2</th>\n",
       "      <td>Simply Shaggadelic!</td>\n",
       "      <td>Austin Powers: The Spy Who Shagged Me</td>\n",
       "      <td>F</td>\n",
       "      <td>Movies</td>\n",
       "    </tr>\n",
       "    <tr>\n",
       "      <th>3</th>\n",
       "      <td>Better Than The First!</td>\n",
       "      <td>Toy Story 2</td>\n",
       "      <td>F</td>\n",
       "      <td>Movies</td>\n",
       "    </tr>\n",
       "    <tr>\n",
       "      <th>4</th>\n",
       "      <td>Blair Witch made me appreciate this</td>\n",
       "      <td>Star Wars Episode I: The Phantom Menace</td>\n",
       "      <td>F</td>\n",
       "      <td>Movies</td>\n",
       "    </tr>\n",
       "  </tbody>\n",
       "</table>\n",
       "</div>"
      ],
      "text/plain": [
       "                                        review  \\\n",
       "0  Finally, Something for (Relatively) Nothing   \n",
       "1                                    Shocking!   \n",
       "2                          Simply Shaggadelic!   \n",
       "3                       Better Than The First!   \n",
       "4          Blair Witch made me appreciate this   \n",
       "\n",
       "                                      item gender                  category  \n",
       "0                             MyPoints.com      F  Online Stores & Services  \n",
       "1                              Sixth Sense      F                    Movies  \n",
       "2    Austin Powers: The Spy Who Shagged Me      F                    Movies  \n",
       "3                              Toy Story 2      F                    Movies  \n",
       "4  Star Wars Episode I: The Phantom Menace      F                    Movies  "
      ]
     },
     "execution_count": 251,
     "metadata": {},
     "output_type": "execute_result"
    }
   ],
   "source": [
    "# Part 2\n",
    "# create a new dataframe that only containts the object columns\n",
    "obj_df = df.select_dtypes(include=['object']).copy()\n",
    "obj_df.head()"
   ]
  },
  {
   "cell_type": "code",
   "execution_count": 252,
   "id": "7767ef6c",
   "metadata": {
    "scrolled": true
   },
   "outputs": [
    {
     "data": {
      "text/html": [
       "<div>\n",
       "<style scoped>\n",
       "    .dataframe tbody tr th:only-of-type {\n",
       "        vertical-align: middle;\n",
       "    }\n",
       "\n",
       "    .dataframe tbody tr th {\n",
       "        vertical-align: top;\n",
       "    }\n",
       "\n",
       "    .dataframe thead th {\n",
       "        text-align: right;\n",
       "    }\n",
       "</style>\n",
       "<table border=\"1\" class=\"dataframe\">\n",
       "  <thead>\n",
       "    <tr style=\"text-align: right;\">\n",
       "      <th></th>\n",
       "      <th>review</th>\n",
       "      <th>review_code</th>\n",
       "    </tr>\n",
       "  </thead>\n",
       "  <tbody>\n",
       "    <tr>\n",
       "      <th>0</th>\n",
       "      <td>Finally, Something for (Relatively) Nothing</td>\n",
       "      <td>856.0</td>\n",
       "    </tr>\n",
       "    <tr>\n",
       "      <th>1</th>\n",
       "      <td>Shocking!</td>\n",
       "      <td>1985.0</td>\n",
       "    </tr>\n",
       "    <tr>\n",
       "      <th>2</th>\n",
       "      <td>Simply Shaggadelic!</td>\n",
       "      <td>2006.0</td>\n",
       "    </tr>\n",
       "    <tr>\n",
       "      <th>3</th>\n",
       "      <td>Better Than The First!</td>\n",
       "      <td>472.0</td>\n",
       "    </tr>\n",
       "    <tr>\n",
       "      <th>4</th>\n",
       "      <td>Blair Witch made me appreciate this</td>\n",
       "      <td>493.0</td>\n",
       "    </tr>\n",
       "    <tr>\n",
       "      <th>5</th>\n",
       "      <td>Come here at least once in your life... stay a...</td>\n",
       "      <td>599.0</td>\n",
       "    </tr>\n",
       "    <tr>\n",
       "      <th>6</th>\n",
       "      <td>I joined for the free camera, and stood for no...</td>\n",
       "      <td>1232.0</td>\n",
       "    </tr>\n",
       "    <tr>\n",
       "      <th>7</th>\n",
       "      <td>They Should've Fooled the American Public</td>\n",
       "      <td>2415.0</td>\n",
       "    </tr>\n",
       "    <tr>\n",
       "      <th>8</th>\n",
       "      <td>A Short List of Things to Remember in NYC</td>\n",
       "      <td>136.0</td>\n",
       "    </tr>\n",
       "    <tr>\n",
       "      <th>9</th>\n",
       "      <td>Do you know what a metaphysical can of worms t...</td>\n",
       "      <td>692.0</td>\n",
       "    </tr>\n",
       "    <tr>\n",
       "      <th>10</th>\n",
       "      <td>The Sims: Better Than Illegal Drugs (Not That ...</td>\n",
       "      <td>2339.0</td>\n",
       "    </tr>\n",
       "  </tbody>\n",
       "</table>\n",
       "</div>"
      ],
      "text/plain": [
       "                                               review  review_code\n",
       "0         Finally, Something for (Relatively) Nothing        856.0\n",
       "1                                           Shocking!       1985.0\n",
       "2                                 Simply Shaggadelic!       2006.0\n",
       "3                              Better Than The First!        472.0\n",
       "4                 Blair Witch made me appreciate this        493.0\n",
       "5   Come here at least once in your life... stay a...        599.0\n",
       "6   I joined for the free camera, and stood for no...       1232.0\n",
       "7           They Should've Fooled the American Public       2415.0\n",
       "8           A Short List of Things to Remember in NYC        136.0\n",
       "9   Do you know what a metaphysical can of worms t...        692.0\n",
       "10  The Sims: Better Than Illegal Drugs (Not That ...       2339.0"
      ]
     },
     "execution_count": 252,
     "metadata": {},
     "output_type": "execute_result"
    }
   ],
   "source": [
    "ord_enc = OrdinalEncoder()\n",
    "df[\"review_code\"] = ord_enc.fit_transform(df[[\"review\"]]) #convert reviews to numerical values\n",
    "df[[\"review\", \"review_code\"]].head(11) "
   ]
  },
  {
   "cell_type": "code",
   "execution_count": 253,
   "id": "e353fddd",
   "metadata": {},
   "outputs": [
    {
     "data": {
      "text/html": [
       "<div>\n",
       "<style scoped>\n",
       "    .dataframe tbody tr th:only-of-type {\n",
       "        vertical-align: middle;\n",
       "    }\n",
       "\n",
       "    .dataframe tbody tr th {\n",
       "        vertical-align: top;\n",
       "    }\n",
       "\n",
       "    .dataframe thead th {\n",
       "        text-align: right;\n",
       "    }\n",
       "</style>\n",
       "<table border=\"1\" class=\"dataframe\">\n",
       "  <thead>\n",
       "    <tr style=\"text-align: right;\">\n",
       "      <th></th>\n",
       "      <th>gender</th>\n",
       "      <th>gender_code</th>\n",
       "    </tr>\n",
       "  </thead>\n",
       "  <tbody>\n",
       "    <tr>\n",
       "      <th>0</th>\n",
       "      <td>F</td>\n",
       "      <td>0.0</td>\n",
       "    </tr>\n",
       "    <tr>\n",
       "      <th>1</th>\n",
       "      <td>F</td>\n",
       "      <td>0.0</td>\n",
       "    </tr>\n",
       "    <tr>\n",
       "      <th>2</th>\n",
       "      <td>F</td>\n",
       "      <td>0.0</td>\n",
       "    </tr>\n",
       "    <tr>\n",
       "      <th>3</th>\n",
       "      <td>F</td>\n",
       "      <td>0.0</td>\n",
       "    </tr>\n",
       "    <tr>\n",
       "      <th>4</th>\n",
       "      <td>F</td>\n",
       "      <td>0.0</td>\n",
       "    </tr>\n",
       "    <tr>\n",
       "      <th>5</th>\n",
       "      <td>F</td>\n",
       "      <td>0.0</td>\n",
       "    </tr>\n",
       "    <tr>\n",
       "      <th>6</th>\n",
       "      <td>F</td>\n",
       "      <td>0.0</td>\n",
       "    </tr>\n",
       "    <tr>\n",
       "      <th>7</th>\n",
       "      <td>F</td>\n",
       "      <td>0.0</td>\n",
       "    </tr>\n",
       "    <tr>\n",
       "      <th>8</th>\n",
       "      <td>F</td>\n",
       "      <td>0.0</td>\n",
       "    </tr>\n",
       "    <tr>\n",
       "      <th>9</th>\n",
       "      <td>F</td>\n",
       "      <td>0.0</td>\n",
       "    </tr>\n",
       "    <tr>\n",
       "      <th>10</th>\n",
       "      <td>F</td>\n",
       "      <td>0.0</td>\n",
       "    </tr>\n",
       "  </tbody>\n",
       "</table>\n",
       "</div>"
      ],
      "text/plain": [
       "   gender  gender_code\n",
       "0       F          0.0\n",
       "1       F          0.0\n",
       "2       F          0.0\n",
       "3       F          0.0\n",
       "4       F          0.0\n",
       "5       F          0.0\n",
       "6       F          0.0\n",
       "7       F          0.0\n",
       "8       F          0.0\n",
       "9       F          0.0\n",
       "10      F          0.0"
      ]
     },
     "execution_count": 253,
     "metadata": {},
     "output_type": "execute_result"
    }
   ],
   "source": [
    "df[\"gender_code\"] = ord_enc.fit_transform(df[[\"gender\"]]) #convert gender to numerical values\n",
    "df[[\"gender\", \"gender_code\"]].head(11)"
   ]
  },
  {
   "cell_type": "code",
   "execution_count": 254,
   "id": "fd2d4c41",
   "metadata": {
    "scrolled": true
   },
   "outputs": [
    {
     "data": {
      "text/html": [
       "<div>\n",
       "<style scoped>\n",
       "    .dataframe tbody tr th:only-of-type {\n",
       "        vertical-align: middle;\n",
       "    }\n",
       "\n",
       "    .dataframe tbody tr th {\n",
       "        vertical-align: top;\n",
       "    }\n",
       "\n",
       "    .dataframe thead th {\n",
       "        text-align: right;\n",
       "    }\n",
       "</style>\n",
       "<table border=\"1\" class=\"dataframe\">\n",
       "  <thead>\n",
       "    <tr style=\"text-align: right;\">\n",
       "      <th></th>\n",
       "      <th>category</th>\n",
       "      <th>category_code</th>\n",
       "    </tr>\n",
       "  </thead>\n",
       "  <tbody>\n",
       "    <tr>\n",
       "      <th>0</th>\n",
       "      <td>Online Stores &amp; Services</td>\n",
       "      <td>6.0</td>\n",
       "    </tr>\n",
       "    <tr>\n",
       "      <th>1</th>\n",
       "      <td>Movies</td>\n",
       "      <td>5.0</td>\n",
       "    </tr>\n",
       "    <tr>\n",
       "      <th>2</th>\n",
       "      <td>Movies</td>\n",
       "      <td>5.0</td>\n",
       "    </tr>\n",
       "    <tr>\n",
       "      <th>3</th>\n",
       "      <td>Movies</td>\n",
       "      <td>5.0</td>\n",
       "    </tr>\n",
       "    <tr>\n",
       "      <th>4</th>\n",
       "      <td>Movies</td>\n",
       "      <td>5.0</td>\n",
       "    </tr>\n",
       "    <tr>\n",
       "      <th>5</th>\n",
       "      <td>Hotels &amp; Travel</td>\n",
       "      <td>2.0</td>\n",
       "    </tr>\n",
       "    <tr>\n",
       "      <th>6</th>\n",
       "      <td>Online Stores &amp; Services</td>\n",
       "      <td>6.0</td>\n",
       "    </tr>\n",
       "    <tr>\n",
       "      <th>7</th>\n",
       "      <td>Movies</td>\n",
       "      <td>5.0</td>\n",
       "    </tr>\n",
       "    <tr>\n",
       "      <th>8</th>\n",
       "      <td>Hotels &amp; Travel</td>\n",
       "      <td>2.0</td>\n",
       "    </tr>\n",
       "    <tr>\n",
       "      <th>9</th>\n",
       "      <td>Movies</td>\n",
       "      <td>5.0</td>\n",
       "    </tr>\n",
       "    <tr>\n",
       "      <th>10</th>\n",
       "      <td>Games</td>\n",
       "      <td>1.0</td>\n",
       "    </tr>\n",
       "  </tbody>\n",
       "</table>\n",
       "</div>"
      ],
      "text/plain": [
       "                    category  category_code\n",
       "0   Online Stores & Services            6.0\n",
       "1                     Movies            5.0\n",
       "2                     Movies            5.0\n",
       "3                     Movies            5.0\n",
       "4                     Movies            5.0\n",
       "5            Hotels & Travel            2.0\n",
       "6   Online Stores & Services            6.0\n",
       "7                     Movies            5.0\n",
       "8            Hotels & Travel            2.0\n",
       "9                     Movies            5.0\n",
       "10                     Games            1.0"
      ]
     },
     "execution_count": 254,
     "metadata": {},
     "output_type": "execute_result"
    }
   ],
   "source": [
    "df[\"category_code\"] = ord_enc.fit_transform(df[[\"category\"]]) #convert categories to numerical values\n",
    "df[[\"category\", \"category_code\"]].head(11)"
   ]
  },
  {
   "cell_type": "code",
   "execution_count": 255,
   "id": "3c9c20e3",
   "metadata": {},
   "outputs": [
    {
     "data": {
      "text/plain": [
       "-0.016832209821488656"
      ]
     },
     "execution_count": 255,
     "metadata": {},
     "output_type": "execute_result"
    }
   ],
   "source": [
    "df['rating'].corr(df['helpfulness']) # calculate the correlation between rating and helpfulness"
   ]
  },
  {
   "cell_type": "code",
   "execution_count": 256,
   "id": "a63786c5",
   "metadata": {},
   "outputs": [
    {
     "data": {
      "text/plain": [
       "0.01810503901150749"
      ]
     },
     "execution_count": 256,
     "metadata": {},
     "output_type": "execute_result"
    }
   ],
   "source": [
    "df['rating'].corr(df['gender_code']) # calculate the correlation between rating and gender"
   ]
  },
  {
   "cell_type": "code",
   "execution_count": 257,
   "id": "9b7a944f",
   "metadata": {},
   "outputs": [
    {
     "data": {
      "text/plain": [
       "-0.14057638180137577"
      ]
     },
     "execution_count": 257,
     "metadata": {},
     "output_type": "execute_result"
    }
   ],
   "source": [
    "df['rating'].corr(df['category_code']) # calculate the correlation between rating and category"
   ]
  },
  {
   "cell_type": "code",
   "execution_count": 258,
   "id": "d35177e9",
   "metadata": {},
   "outputs": [
    {
     "data": {
      "text/plain": [
       "-0.06207107945825087"
      ]
     },
     "execution_count": 258,
     "metadata": {},
     "output_type": "execute_result"
    }
   ],
   "source": [
    "df['rating'].corr(df['review_code']) # calculate the correlation between rating and review"
   ]
  },
  {
   "cell_type": "code",
   "execution_count": 259,
   "id": "44d79117",
   "metadata": {},
   "outputs": [
    {
     "data": {
      "text/html": [
       "<div>\n",
       "<style scoped>\n",
       "    .dataframe tbody tr th:only-of-type {\n",
       "        vertical-align: middle;\n",
       "    }\n",
       "\n",
       "    .dataframe tbody tr th {\n",
       "        vertical-align: top;\n",
       "    }\n",
       "\n",
       "    .dataframe thead th {\n",
       "        text-align: right;\n",
       "    }\n",
       "</style>\n",
       "<table border=\"1\" class=\"dataframe\">\n",
       "  <thead>\n",
       "    <tr style=\"text-align: right;\">\n",
       "      <th></th>\n",
       "      <th>rating</th>\n",
       "      <th>helpfulness</th>\n",
       "      <th>gender_code</th>\n",
       "      <th>category_code</th>\n",
       "      <th>review_code</th>\n",
       "    </tr>\n",
       "  </thead>\n",
       "  <tbody>\n",
       "    <tr>\n",
       "      <th>rating</th>\n",
       "      <td>1.000000</td>\n",
       "      <td>-0.016832</td>\n",
       "      <td>0.018105</td>\n",
       "      <td>-0.140576</td>\n",
       "      <td>-0.062071</td>\n",
       "    </tr>\n",
       "    <tr>\n",
       "      <th>helpfulness</th>\n",
       "      <td>-0.016832</td>\n",
       "      <td>1.000000</td>\n",
       "      <td>-0.046627</td>\n",
       "      <td>-0.000189</td>\n",
       "      <td>0.016170</td>\n",
       "    </tr>\n",
       "    <tr>\n",
       "      <th>gender_code</th>\n",
       "      <td>0.018105</td>\n",
       "      <td>-0.046627</td>\n",
       "      <td>1.000000</td>\n",
       "      <td>-0.017644</td>\n",
       "      <td>-0.014422</td>\n",
       "    </tr>\n",
       "    <tr>\n",
       "      <th>category_code</th>\n",
       "      <td>-0.140576</td>\n",
       "      <td>-0.000189</td>\n",
       "      <td>-0.017644</td>\n",
       "      <td>1.000000</td>\n",
       "      <td>0.012047</td>\n",
       "    </tr>\n",
       "    <tr>\n",
       "      <th>review_code</th>\n",
       "      <td>-0.062071</td>\n",
       "      <td>0.016170</td>\n",
       "      <td>-0.014422</td>\n",
       "      <td>0.012047</td>\n",
       "      <td>1.000000</td>\n",
       "    </tr>\n",
       "  </tbody>\n",
       "</table>\n",
       "</div>"
      ],
      "text/plain": [
       "                 rating  helpfulness  gender_code  category_code  review_code\n",
       "rating         1.000000    -0.016832     0.018105      -0.140576    -0.062071\n",
       "helpfulness   -0.016832     1.000000    -0.046627      -0.000189     0.016170\n",
       "gender_code    0.018105    -0.046627     1.000000      -0.017644    -0.014422\n",
       "category_code -0.140576    -0.000189    -0.017644       1.000000     0.012047\n",
       "review_code   -0.062071     0.016170    -0.014422       0.012047     1.000000"
      ]
     },
     "execution_count": 259,
     "metadata": {},
     "output_type": "execute_result"
    }
   ],
   "source": [
    "# Alternative method to calculate the correlation between helpfulness/gender/category/review and rating\n",
    "df[['rating','helpfulness','gender_code','category_code', 'review_code']].corr()"
   ]
  },
  {
   "cell_type": "markdown",
   "id": "d7d6f40f",
   "metadata": {},
   "source": [
    "### Explanation on the Correlations\n",
    "\n",
    "Correlations between two elements can be inferred from their extreme values -1 and 1, indicating perfect linear relationships in which a change in one variable results in a change in the other. Conversely, a coefficient of zero indicates no linear relationship, which implies the other variable has no tendency to increase or decrease as one increases. The table above shows that category is most correlated to rating since its value is closest to -1 (-0.140576). Furthermore, review appears to be the second most closely related element to rating, with a value of -0.062071, followed by gender with a value of 0.018105. Lastly, the least correlated variable with rating is helpfulness, with a value of -0.016832. \n",
    "\n",
    "In terms of negative correlation, category, review, and helpfulness have values that are less than zero. Negative coefficients typically signify situations where, as one variable's value rises, the value of the other variable tends to fall. On the other hand, a positive correlation exists between gender and rating, as the correlation coefficient is greater than zero. Positive coefficients show a tendency for the value of one variable to rise as the value of the other variable increases.\n",
    "\n",
    "Regarding the outcome, the correlation will have an effect on the final prediction result, as better predictive power will be seen when utilizing the most correlated variables, leading to lower mean squared error values, and vice versa. In other words, low MSE and RMSE values suggest greater precision since forecast and actual data are fairly close to one another. The variables with the highest correlation should therefore be employed in this circumstance to improve estimation accuracy and final outcome. My hypothesis can be validated using training and testing linear regression models with feature selection and measuring MSE and RMSE, as is demonstrated in the following section."
   ]
  },
  {
   "cell_type": "markdown",
   "id": "736df7ff",
   "metadata": {},
   "source": [
    "### Split Training and Testing Data\n",
    "* Machine learning models are trained to help make predictions for the future. Normally, we need to randomly split the dataset into training and testing sets, where we use the training set to train the model, and then leverage the well-trained model to make predictions on the testing set. \n",
    "* To further investigate whether the size of the training/testing data affects the model performance, please random split the data into training and testing sets with different sizes:\n",
    "    * Case 1: training data containing 10% of the entire data;\n",
    "    * Case 2: training data containing 90% of the entire data. \n",
    "* Print the shape of training and testing sets in the two cases. "
   ]
  },
  {
   "cell_type": "code",
   "execution_count": 260,
   "id": "7abf1833",
   "metadata": {},
   "outputs": [
    {
     "name": "stdout",
     "output_type": "stream",
     "text": [
      "(289, 11)\n",
      "(2610, 11)\n"
     ]
    }
   ],
   "source": [
    "# Case 1\n",
    "train, test = train_test_split(df, test_size=0.9, random_state=142)\n",
    "print(train.shape)\n",
    "print(test.shape)"
   ]
  },
  {
   "cell_type": "code",
   "execution_count": 261,
   "id": "a9bfef28",
   "metadata": {},
   "outputs": [
    {
     "name": "stdout",
     "output_type": "stream",
     "text": [
      "(2609, 11)\n",
      "(290, 11)\n"
     ]
    }
   ],
   "source": [
    "# Case 2\n",
    "train, test = train_test_split(df, test_size=0.1, random_state=142)\n",
    "print(train.shape)\n",
    "print(test.shape)"
   ]
  },
  {
   "cell_type": "markdown",
   "id": "50d87ff1",
   "metadata": {},
   "source": [
    "### Train Linear Regression Models with Feature Selection under Cases 1 & 2\n",
    "* When training a machine learning model for prediction, we may need to select the most important/correlated input features for more accurate results. \n",
    "* To investigate whether feature selection affects the model performance, please select __two most correlated features and two least correlated features__ regarding rating, respectively. \n",
    "* Train __four__ linear regression models by following the conditions:\n",
    "    - (model-a) using the training/testing data in __case 1__ with __two most__ correlated input features\n",
    "    - (model-b) using the training/testing data in __case 1__ with __two least__ correlated input features\n",
    "    - (model-c) using the training/testing data in __case 2__ with __two most__ correlated input features\n",
    "    - (model-d) using the training/testing data in __case 2__ with __two least__ correlated input features\n",
    "* By doing this, we can verify the impacts of the size of traing/testing data on the model performance via comparing model-a and model-c (or model-b and model-d); meanwhile the impacts of feature selection can be validated via comparing model-a and model-b (or model-c and model-d).    "
   ]
  },
  {
   "cell_type": "code",
   "execution_count": 368,
   "id": "2932a2bf",
   "metadata": {},
   "outputs": [
    {
     "data": {
      "text/plain": [
       "LinearRegression()"
      ]
     },
     "execution_count": 368,
     "metadata": {},
     "output_type": "execute_result"
    }
   ],
   "source": [
    "# Model A\n",
    "train, test = train_test_split(df, test_size=0.9, random_state=142)\n",
    "\n",
    "regA = linear_model.LinearRegression()\n",
    "\n",
    "X_train = train[[\"category_code\",\"review_code\"]] \n",
    "y_train = train[\"rating\"]\n",
    "X_test = test[[\"category_code\",\"review_code\"]]\n",
    "y_test = test[\"rating\"]\n",
    "\n",
    "\n",
    "regA.fit(X_train, y_train)"
   ]
  },
  {
   "cell_type": "code",
   "execution_count": 370,
   "id": "d6f4f5c1",
   "metadata": {},
   "outputs": [
    {
     "data": {
      "text/plain": [
       "LinearRegression()"
      ]
     },
     "execution_count": 370,
     "metadata": {},
     "output_type": "execute_result"
    }
   ],
   "source": [
    "# Model B\n",
    "train, test = train_test_split(df, test_size=0.9, random_state=142)\n",
    "\n",
    "regB = linear_model.LinearRegression()\n",
    "\n",
    "X_train = train[[\"helpfulness\",\"gender_code\"]] \n",
    "y_train = train[\"rating\"]\n",
    "X_test = test[[\"helpfulness\",\"gender_code\"]]\n",
    "y_test = test[\"rating\"]\n",
    "\n",
    "\n",
    "regB.fit(X_train, y_train)"
   ]
  },
  {
   "cell_type": "code",
   "execution_count": 372,
   "id": "5daf08ea",
   "metadata": {},
   "outputs": [
    {
     "data": {
      "text/plain": [
       "LinearRegression()"
      ]
     },
     "execution_count": 372,
     "metadata": {},
     "output_type": "execute_result"
    }
   ],
   "source": [
    "# Model C\n",
    "train, test = train_test_split(df, test_size=0.1, random_state=142)\n",
    "\n",
    "regC = linear_model.LinearRegression()\n",
    "\n",
    "X_train = train[[\"category_code\",\"review_code\"]] \n",
    "y_train = train[\"rating\"]\n",
    "X_test = test[[\"category_code\",\"review_code\"]]\n",
    "y_test = test[\"rating\"]\n",
    "\n",
    "\n",
    "regC.fit(X_train, y_train)"
   ]
  },
  {
   "cell_type": "code",
   "execution_count": 374,
   "id": "d583d489",
   "metadata": {},
   "outputs": [
    {
     "data": {
      "text/plain": [
       "LinearRegression()"
      ]
     },
     "execution_count": 374,
     "metadata": {},
     "output_type": "execute_result"
    }
   ],
   "source": [
    "# Model D\n",
    "train, test = train_test_split(df, test_size=0.1, random_state=142)\n",
    "\n",
    "regD = linear_model.LinearRegression()\n",
    "\n",
    "X_train = train[[\"helpfulness\",\"gender_code\"]] \n",
    "y_train = train[\"rating\"]\n",
    "X_test = test[[\"helpfulness\",\"gender_code\"]]\n",
    "y_test = test[\"rating\"]\n",
    "\n",
    "\n",
    "regD.fit(X_train, y_train)"
   ]
  },
  {
   "cell_type": "markdown",
   "id": "b2a5f371",
   "metadata": {},
   "source": [
    "### Evaluate Models\n",
    "* Evaluate the performance of the four models with two metrics, including MSE and Root MSE\n",
    "* Print the results of the four models regarding the two metrics"
   ]
  },
  {
   "cell_type": "code",
   "execution_count": 369,
   "id": "2774394b",
   "metadata": {},
   "outputs": [
    {
     "name": "stdout",
     "output_type": "stream",
     "text": [
      "MSE: 1.7661060021271924\n",
      "Root MSE: 1.3289492097620557\n"
     ]
    }
   ],
   "source": [
    "# Model A\n",
    "predicted_a = regA.predict(X_test)\n",
    "mse_a = ((np.array(y_test)-predicted_a)**2).sum()/len(y_test)\n",
    "root_mse_a = np.sqrt(mse_a)\n",
    "\n",
    "print(\"MSE:\", mse_a)\n",
    "print(\"Root MSE:\", root_mse_a)"
   ]
  },
  {
   "cell_type": "code",
   "execution_count": 371,
   "id": "b2516777",
   "metadata": {},
   "outputs": [
    {
     "name": "stdout",
     "output_type": "stream",
     "text": [
      "MSE: 1.8142164061736321\n",
      "Root MSE: 1.3469285081895148\n"
     ]
    }
   ],
   "source": [
    "# Model B\n",
    "predicted_b = regB.predict(X_test)\n",
    "mse_b = ((np.array(y_test)-predicted_b)**2).sum()/len(y_test)\n",
    "root_mse_b = np.sqrt(mse_b)\n",
    "\n",
    "print(\"MSE:\", mse_b)\n",
    "print(\"Root MSE:\", root_mse_b)"
   ]
  },
  {
   "cell_type": "code",
   "execution_count": 373,
   "id": "f8198d10",
   "metadata": {},
   "outputs": [
    {
     "name": "stdout",
     "output_type": "stream",
     "text": [
      "MSE: 1.676161941479957\n",
      "Root MSE: 1.294666729888413\n"
     ]
    }
   ],
   "source": [
    "# Model C\n",
    "predicted_c = regC.predict(X_test)\n",
    "mse_c = ((np.array(y_test)-predicted_c)**2).sum()/len(y_test)\n",
    "root_mse_c = np.sqrt(mse_c)\n",
    "\n",
    "print(\"MSE:\", mse_c)\n",
    "print(\"Root MSE:\", root_mse_c)"
   ]
  },
  {
   "cell_type": "code",
   "execution_count": 375,
   "id": "434c9c65",
   "metadata": {},
   "outputs": [
    {
     "name": "stdout",
     "output_type": "stream",
     "text": [
      "MSE: 1.7684952380582883\n",
      "Root MSE: 1.3298478251507908\n"
     ]
    }
   ],
   "source": [
    "# Model D\n",
    "predicted_d = regD.predict(X_test)\n",
    "mse_d = ((np.array(y_test)-predicted_d)**2).sum()/len(y_test)\n",
    "root_mse_d = np.sqrt(mse_d)\n",
    "\n",
    "print(\"MSE:\", mse_d)\n",
    "print(\"Root MSE:\", root_mse_d)"
   ]
  },
  {
   "cell_type": "markdown",
   "id": "33b49dce",
   "metadata": {},
   "source": [
    "###  Effects of the Size of Training/Testing Data on the Model Performance (Model A and Model C Comparison)\n",
    "\n",
    "Based on the testing set performance, Model A appears to have higher MSE (1.766) and RMSE (1.328) since the training size is lower, at 10%, than Model C, at 90%. Prediction accuracy improves because training data is assessed using data that has already been learned, whereas a bigger test dataset may contain more unfamiliar or uncommon data, increasing the likelihood of prediction errors. Therefore, the outcome is significantly influenced by the size of training and testing data."
   ]
  },
  {
   "cell_type": "markdown",
   "id": "cea5bc0a",
   "metadata": {},
   "source": [
    "### Impacts of Feature Selection on the Model Performance (Model C and Model D Comparison)\n",
    "\n",
    "Model C outperforms Model D in terms of MSE and Root MSE. This is because Model D is trained with variables that are least correlated (helpfulness and gender), whereas Model C is trained with predictor variables that are highly correlated With rating (category and review). This supports the earlier hypothesis stating that the more closely connected the features are, the better the forecast will be, ultimately leading to lower MSE and RMSE."
   ]
  },
  {
   "cell_type": "markdown",
   "id": "c76d7032",
   "metadata": {},
   "source": [
    "### Visualize, Compare and Analyze the Results\n",
    "* Visulize the results, and perform ___insightful analysis___ on the obtained results. For better visualization, you may need to carefully set the scale for the y-axis.\n",
    "* Normally, the model trained with most correlated features and more training data will get better results. Do you obtain the similar observations? If not, please ___explain the possible reasons___."
   ]
  },
  {
   "cell_type": "code",
   "execution_count": 376,
   "id": "970e5a96",
   "metadata": {},
   "outputs": [],
   "source": [
    "model=['Model A', 'Model B', 'Model C', 'Model D']\n",
    "mse_model=[mse_a, mse_b, mse_c, mse_d]\n",
    "rmse_model=[root_mse_a, root_mse_b, root_mse_c, root_mse_d]"
   ]
  },
  {
   "cell_type": "code",
   "execution_count": 384,
   "id": "6cfefe54",
   "metadata": {},
   "outputs": [
    {
     "data": {
      "image/png": "[encoded data removed]",
      "text/plain": [
       "<Figure size 432x288 with 1 Axes>"
      ]
     },
     "metadata": {
      "needs_background": "light"
     },
     "output_type": "display_data"
    }
   ],
   "source": [
    "# Display bar chart that compares models' mse\n",
    "# Due to the similar MSE values (around 1) between the models, the bar charts are intentionally displayed \n",
    "# with predetermined y axes scale for better visibility of differences between model.\n",
    "fig=plt.figure()\n",
    "plot=fig.add_axes([0,0,1,1])\n",
    "plot.bar(model,mse_model,color=['red', 'green', 'blue', 'purple'])\n",
    "plt.xticks(fontsize=12)\n",
    "plt.yticks(fontsize=12)\n",
    "plt.ylim((1.60,1.90))\n",
    "plt.title('MSE Comparisons between Models',fontsize=15)\n",
    "plt.ylabel('Mean Squared Errors',fontsize=15)\n",
    "plt.xlabel('Models',fontsize=15)\n",
    "plt.show()"
   ]
  },
  {
   "cell_type": "code",
   "execution_count": 385,
   "id": "6a960c92",
   "metadata": {},
   "outputs": [
    {
     "data": {
      "image/png": "[encoded data removed]",
      "text/plain": [
       "<Figure size 432x288 with 1 Axes>"
      ]
     },
     "metadata": {
      "needs_background": "light"
     },
     "output_type": "display_data"
    }
   ],
   "source": [
    "# Display bar chart that compares models' rmse\n",
    "# Due to the similar RMSE values (around 1) between the models, the bar charts are intentionally displayed \n",
    "# with predetermined y axes scale for better visibility of differences between model.\n",
    "fig=plt.figure()\n",
    "ax=fig.add_axes([0,0,1,1])\n",
    "ax.bar(model,rmse_model,color=['red', 'green', 'blue', 'purple'])\n",
    "plt.xticks(fontsize=12)\n",
    "plt.yticks(fontsize=12)\n",
    "plt.ylim((1.25,1.40))\n",
    "plt.title('RMSE Comparisons between Models',fontsize=15)\n",
    "plt.ylabel('Root Mean Squared Errors',fontsize=15)\n",
    "plt.xlabel('Models',fontsize=15)\n",
    "plt.show()"
   ]
  },
  {
   "cell_type": "markdown",
   "id": "08530b3f",
   "metadata": {},
   "source": [
    "### Analysis and Conclusion\n",
    "According to the bar chart above, Model C, which has been trained at a 90% rate and has primarily correlated variables, performs better than the others. The reason is that the MSE and RMSE of the model are the lowest, indicating the closest estimates to the actual values. Thus, it is evident to suggest that the model with the most correlated features and the most training data will perform better."
   ]
  }
 ],
 "metadata": {
  "kernelspec": {
   "display_name": "Python 3 (ipykernel)",
   "language": "python",
   "name": "python3"
  },
  "language_info": {
   "codemirror_mode": {
    "name": "ipython",
    "version": 3
   },
   "file_extension": ".py",
   "mimetype": "text/x-python",
   "name": "python",
   "nbconvert_exporter": "python",
   "pygments_lexer": "ipython3",
   "version": "3.9.12"
  }
 },
 "nbformat": 4,
 "nbformat_minor": 5
}
