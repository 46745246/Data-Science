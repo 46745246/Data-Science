{
 "cells": [
  {
   "cell_type": "markdown",
   "id": "7cb1739b",
   "metadata": {},
   "source": [
    "## Analysis of Epinions Dataset "
   ]
  },
  {
   "cell_type": "markdown",
   "id": "a3475190",
   "metadata": {},
   "source": [
    "The goal of this task is to train linear regression models to predict users' ratings towards items using a cleaned Epinions sub-dataset. The process follows a standard Data Science workflow, including data exploration, model development, prediction generation, and performance evaluation. Additionally, the task examines the impact of feature selection and varying training/testing data sizes on model accuracy and performance."
   ]
  },
  {
   "cell_type": "markdown",
   "id": "0883990c",
   "metadata": {},
   "source": [
    "--------\n",
    "### Import Cleaned Epinions Dataset"
   ]
  },
  {
   "cell_type": "code",
   "execution_count": 5,
   "id": "98fc06ee",
   "metadata": {},
   "outputs": [
    {
     "name": "stdout",
     "output_type": "stream",
     "text": [
      "The total length of the dataset is 2899\n"
     ]
    }
   ],
   "source": [
    "# Import the necessary libraries\n",
    "import pandas as pd\n",
    "import numpy as np\n",
    "from sklearn.model_selection import train_test_split\n",
    "from sklearn import linear_model\n",
    "from sklearn.metrics import r2_score \n",
    "from sklearn.preprocessing import OrdinalEncoder\n",
    "import seaborn as sns\n",
    "import matplotlib.pylab as plt\n",
    "%matplotlib inline\n",
    "import math\n",
    "\n",
    "# Import the data \n",
    "df=pd.read_csv('Data/Portfolio 1.csv')\n",
    "\n",
    "# Print data's total length\n",
    "print(\"The total length of the dataset is\", len(df))"
   ]
  },
  {
   "cell_type": "markdown",
   "id": "990be9e1",
   "metadata": {},
   "source": [
    "--------\n",
    "### Dataset Exploration\n",
    "\n",
    "1. **Analyze Correlations:**  \n",
    "   - Use the `corr()` method to compute correlations between features such as helpfulness, gender, category, and review, and their impact on the target variable (rating).\n",
    "\n",
    "2. **Convert Categorical Features:**  \n",
    "   - Transform categorical features (e.g., gender, category, and review) into numerical values to enable correlation analysis and ensure compatibility with machine learning models.\n",
    "\n",
    "3. **Identify Key Correlations:**  \n",
    "   - Determine the most and least correlated features with ratings, considering both positive and negative correlations. \n",
    "   - Discuss the potential impact of these correlations on the final prediction results, highlighting how strongly or weakly certain features influence model accuracy and reliability.\n"
   ]
  },
  {
   "cell_type": "code",
   "execution_count": 7,
   "id": "313a75af",
   "metadata": {},
   "outputs": [
    {
     "data": {
      "text/html": [
       "<div>\n",
       "<style scoped>\n",
       "    .dataframe tbody tr th:only-of-type {\n",
       "        vertical-align: middle;\n",
       "    }\n",
       "\n",
       "    .dataframe tbody tr th {\n",
       "        vertical-align: top;\n",
       "    }\n",
       "\n",
       "    .dataframe thead th {\n",
       "        text-align: right;\n",
       "    }\n",
       "</style>\n",
       "<table border=\"1\" class=\"dataframe\">\n",
       "  <thead>\n",
       "    <tr style=\"text-align: right;\">\n",
       "      <th></th>\n",
       "      <th>userId</th>\n",
       "      <th>timestamp</th>\n",
       "      <th>review</th>\n",
       "      <th>item</th>\n",
       "      <th>rating</th>\n",
       "      <th>helpfulness</th>\n",
       "      <th>gender</th>\n",
       "      <th>category</th>\n",
       "    </tr>\n",
       "  </thead>\n",
       "  <tbody>\n",
       "    <tr>\n",
       "      <th>0</th>\n",
       "      <td>4259</td>\n",
       "      <td>11900</td>\n",
       "      <td>Finally, Something for (Relatively) Nothing</td>\n",
       "      <td>MyPoints.com</td>\n",
       "      <td>4.0</td>\n",
       "      <td>4.0</td>\n",
       "      <td>F</td>\n",
       "      <td>Online Stores &amp; Services</td>\n",
       "    </tr>\n",
       "    <tr>\n",
       "      <th>1</th>\n",
       "      <td>4259</td>\n",
       "      <td>12000</td>\n",
       "      <td>Shocking!</td>\n",
       "      <td>Sixth Sense</td>\n",
       "      <td>5.0</td>\n",
       "      <td>4.0</td>\n",
       "      <td>F</td>\n",
       "      <td>Movies</td>\n",
       "    </tr>\n",
       "    <tr>\n",
       "      <th>2</th>\n",
       "      <td>4259</td>\n",
       "      <td>12000</td>\n",
       "      <td>Simply Shaggadelic!</td>\n",
       "      <td>Austin Powers: The Spy Who Shagged Me</td>\n",
       "      <td>5.0</td>\n",
       "      <td>4.0</td>\n",
       "      <td>F</td>\n",
       "      <td>Movies</td>\n",
       "    </tr>\n",
       "    <tr>\n",
       "      <th>3</th>\n",
       "      <td>4259</td>\n",
       "      <td>12000</td>\n",
       "      <td>Better Than The First!</td>\n",
       "      <td>Toy Story 2</td>\n",
       "      <td>5.0</td>\n",
       "      <td>3.0</td>\n",
       "      <td>F</td>\n",
       "      <td>Movies</td>\n",
       "    </tr>\n",
       "    <tr>\n",
       "      <th>4</th>\n",
       "      <td>4259</td>\n",
       "      <td>12000</td>\n",
       "      <td>Blair Witch made me appreciate this</td>\n",
       "      <td>Star Wars Episode I: The Phantom Menace</td>\n",
       "      <td>2.0</td>\n",
       "      <td>4.0</td>\n",
       "      <td>F</td>\n",
       "      <td>Movies</td>\n",
       "    </tr>\n",
       "  </tbody>\n",
       "</table>\n",
       "</div>"
      ],
      "text/plain": [
       "   userId  timestamp                                       review  \\\n",
       "0    4259      11900  Finally, Something for (Relatively) Nothing   \n",
       "1    4259      12000                                    Shocking!   \n",
       "2    4259      12000                          Simply Shaggadelic!   \n",
       "3    4259      12000                       Better Than The First!   \n",
       "4    4259      12000          Blair Witch made me appreciate this   \n",
       "\n",
       "                                      item  rating  helpfulness gender  \\\n",
       "0                             MyPoints.com     4.0          4.0      F   \n",
       "1                              Sixth Sense     5.0          4.0      F   \n",
       "2    Austin Powers: The Spy Who Shagged Me     5.0          4.0      F   \n",
       "3                              Toy Story 2     5.0          3.0      F   \n",
       "4  Star Wars Episode I: The Phantom Menace     2.0          4.0      F   \n",
       "\n",
       "                   category  \n",
       "0  Online Stores & Services  \n",
       "1                    Movies  \n",
       "2                    Movies  \n",
       "3                    Movies  \n",
       "4                    Movies  "
      ]
     },
     "execution_count": 7,
     "metadata": {},
     "output_type": "execute_result"
    }
   ],
   "source": [
    "# Print the first 5 rows of the dataset\n",
    "df.head()"
   ]
  },
  {
   "cell_type": "code",
   "execution_count": 8,
   "id": "8a749f9c",
   "metadata": {},
   "outputs": [
    {
     "name": "stdout",
     "output_type": "stream",
     "text": [
      "<class 'pandas.core.frame.DataFrame'>\n",
      "RangeIndex: 2899 entries, 0 to 2898\n",
      "Data columns (total 8 columns):\n",
      " #   Column       Non-Null Count  Dtype  \n",
      "---  ------       --------------  -----  \n",
      " 0   userId       2899 non-null   int64  \n",
      " 1   timestamp    2899 non-null   int64  \n",
      " 2   review       2899 non-null   object \n",
      " 3   item         2899 non-null   object \n",
      " 4   rating       2899 non-null   float64\n",
      " 5   helpfulness  2899 non-null   float64\n",
      " 6   gender       2899 non-null   object \n",
      " 7   category     2899 non-null   object \n",
      "dtypes: float64(2), int64(2), object(4)\n",
      "memory usage: 181.3+ KB\n"
     ]
    }
   ],
   "source": [
    "# Print the information of the dataset\n",
    "df.info()"
   ]
  },
  {
   "cell_type": "code",
   "execution_count": 9,
   "id": "78426d87",
   "metadata": {},
   "outputs": [
    {
     "data": {
      "text/html": [
       "<div>\n",
       "<style scoped>\n",
       "    .dataframe tbody tr th:only-of-type {\n",
       "        vertical-align: middle;\n",
       "    }\n",
       "\n",
       "    .dataframe tbody tr th {\n",
       "        vertical-align: top;\n",
       "    }\n",
       "\n",
       "    .dataframe thead th {\n",
       "        text-align: right;\n",
       "    }\n",
       "</style>\n",
       "<table border=\"1\" class=\"dataframe\">\n",
       "  <thead>\n",
       "    <tr style=\"text-align: right;\">\n",
       "      <th></th>\n",
       "      <th>category</th>\n",
       "      <th>category_code</th>\n",
       "      <th>review</th>\n",
       "      <th>review_code</th>\n",
       "      <th>gender</th>\n",
       "      <th>gender_code</th>\n",
       "    </tr>\n",
       "  </thead>\n",
       "  <tbody>\n",
       "    <tr>\n",
       "      <th>0</th>\n",
       "      <td>Online Stores &amp; Services</td>\n",
       "      <td>6</td>\n",
       "      <td>Finally, Something for (Relatively) Nothing</td>\n",
       "      <td>856</td>\n",
       "      <td>F</td>\n",
       "      <td>0</td>\n",
       "    </tr>\n",
       "    <tr>\n",
       "      <th>1</th>\n",
       "      <td>Movies</td>\n",
       "      <td>5</td>\n",
       "      <td>Shocking!</td>\n",
       "      <td>1985</td>\n",
       "      <td>F</td>\n",
       "      <td>0</td>\n",
       "    </tr>\n",
       "    <tr>\n",
       "      <th>2</th>\n",
       "      <td>Movies</td>\n",
       "      <td>5</td>\n",
       "      <td>Simply Shaggadelic!</td>\n",
       "      <td>2006</td>\n",
       "      <td>F</td>\n",
       "      <td>0</td>\n",
       "    </tr>\n",
       "    <tr>\n",
       "      <th>3</th>\n",
       "      <td>Movies</td>\n",
       "      <td>5</td>\n",
       "      <td>Better Than The First!</td>\n",
       "      <td>472</td>\n",
       "      <td>F</td>\n",
       "      <td>0</td>\n",
       "    </tr>\n",
       "    <tr>\n",
       "      <th>4</th>\n",
       "      <td>Movies</td>\n",
       "      <td>5</td>\n",
       "      <td>Blair Witch made me appreciate this</td>\n",
       "      <td>493</td>\n",
       "      <td>F</td>\n",
       "      <td>0</td>\n",
       "    </tr>\n",
       "    <tr>\n",
       "      <th>5</th>\n",
       "      <td>Hotels &amp; Travel</td>\n",
       "      <td>2</td>\n",
       "      <td>Come here at least once in your life... stay a...</td>\n",
       "      <td>599</td>\n",
       "      <td>F</td>\n",
       "      <td>0</td>\n",
       "    </tr>\n",
       "    <tr>\n",
       "      <th>6</th>\n",
       "      <td>Online Stores &amp; Services</td>\n",
       "      <td>6</td>\n",
       "      <td>I joined for the free camera, and stood for no...</td>\n",
       "      <td>1232</td>\n",
       "      <td>F</td>\n",
       "      <td>0</td>\n",
       "    </tr>\n",
       "    <tr>\n",
       "      <th>7</th>\n",
       "      <td>Movies</td>\n",
       "      <td>5</td>\n",
       "      <td>They Should've Fooled the American Public</td>\n",
       "      <td>2415</td>\n",
       "      <td>F</td>\n",
       "      <td>0</td>\n",
       "    </tr>\n",
       "    <tr>\n",
       "      <th>8</th>\n",
       "      <td>Hotels &amp; Travel</td>\n",
       "      <td>2</td>\n",
       "      <td>A Short List of Things to Remember in NYC</td>\n",
       "      <td>136</td>\n",
       "      <td>F</td>\n",
       "      <td>0</td>\n",
       "    </tr>\n",
       "    <tr>\n",
       "      <th>9</th>\n",
       "      <td>Movies</td>\n",
       "      <td>5</td>\n",
       "      <td>Do you know what a metaphysical can of worms t...</td>\n",
       "      <td>692</td>\n",
       "      <td>F</td>\n",
       "      <td>0</td>\n",
       "    </tr>\n",
       "    <tr>\n",
       "      <th>10</th>\n",
       "      <td>Games</td>\n",
       "      <td>1</td>\n",
       "      <td>The Sims: Better Than Illegal Drugs (Not That ...</td>\n",
       "      <td>2339</td>\n",
       "      <td>F</td>\n",
       "      <td>0</td>\n",
       "    </tr>\n",
       "  </tbody>\n",
       "</table>\n",
       "</div>"
      ],
      "text/plain": [
       "                    category  category_code  \\\n",
       "0   Online Stores & Services              6   \n",
       "1                     Movies              5   \n",
       "2                     Movies              5   \n",
       "3                     Movies              5   \n",
       "4                     Movies              5   \n",
       "5            Hotels & Travel              2   \n",
       "6   Online Stores & Services              6   \n",
       "7                     Movies              5   \n",
       "8            Hotels & Travel              2   \n",
       "9                     Movies              5   \n",
       "10                     Games              1   \n",
       "\n",
       "                                               review  review_code gender  \\\n",
       "0         Finally, Something for (Relatively) Nothing          856      F   \n",
       "1                                           Shocking!         1985      F   \n",
       "2                                 Simply Shaggadelic!         2006      F   \n",
       "3                              Better Than The First!          472      F   \n",
       "4                 Blair Witch made me appreciate this          493      F   \n",
       "5   Come here at least once in your life... stay a...          599      F   \n",
       "6   I joined for the free camera, and stood for no...         1232      F   \n",
       "7           They Should've Fooled the American Public         2415      F   \n",
       "8           A Short List of Things to Remember in NYC          136      F   \n",
       "9   Do you know what a metaphysical can of worms t...          692      F   \n",
       "10  The Sims: Better Than Illegal Drugs (Not That ...         2339      F   \n",
       "\n",
       "    gender_code  \n",
       "0             0  \n",
       "1             0  \n",
       "2             0  \n",
       "3             0  \n",
       "4             0  \n",
       "5             0  \n",
       "6             0  \n",
       "7             0  \n",
       "8             0  \n",
       "9             0  \n",
       "10            0  "
      ]
     },
     "execution_count": 9,
     "metadata": {},
     "output_type": "execute_result"
    }
   ],
   "source": [
    "# Use OrdinalEncoder to encode categorical features as an integer array\n",
    "ord_enc=OrdinalEncoder(dtype=int)\n",
    "\n",
    "df[\"category_code\"] = ord_enc.fit_transform(df[[\"category\"]])\n",
    "df[\"gender_code\"] = ord_enc.fit_transform(df[[\"gender\"]])\n",
    "df[\"review_code\"] = ord_enc.fit_transform(df[[\"review\"]])\n",
    "\n",
    "df[[\"category\", \"category_code\", \"review\", \"review_code\", \"gender\", \"gender_code\"]].head(11)"
   ]
  },
  {
   "cell_type": "code",
   "execution_count": 10,
   "id": "acab005b",
   "metadata": {},
   "outputs": [
    {
     "name": "stdout",
     "output_type": "stream",
     "text": [
      "corr_helpfulness:  -0.016832209821488652\n",
      "corr_category:  -0.14057638180137574\n",
      "corr_gender:  0.018105039011507486\n",
      "corr_review:  -0.062071079458250855\n"
     ]
    }
   ],
   "source": [
    "# Get the correlations between helpfulness/category/gender/review and rating\n",
    "corr_helpfulness = df['helpfulness'].corr(df['rating']) \n",
    "corr_category = df['category_code'].corr(df['rating'])\n",
    "corr_gender = df['gender_code'].corr(df['rating'])\n",
    "corr_review = df['review_code'].corr(df['rating'])\n",
    "\n",
    "print('corr_helpfulness: ', corr_helpfulness)\n",
    "print('corr_category: ', corr_category)\n",
    "print('corr_gender: ', corr_gender)\n",
    "print('corr_review: ', corr_review)"
   ]
  },
  {
   "cell_type": "markdown",
   "id": "57abc0d1",
   "metadata": {},
   "source": [
    "**Explanation of Correlations:**  \n",
    "\n",
    "- Ratings exhibit a stronger correlation with item categories and item reviews compared to other features.  \n",
    "- Ratings is relatively less correlated with rating helpfulness and user gender.  \n",
    "- Overall, the correlation values across all four features are relatively low, indicating limited predictive power. As a result, these features may not significantly enhance the accuracy of rating predictions when used as input variables."
   ]
  },
  {
   "cell_type": "markdown",
   "id": "736df7ff",
   "metadata": {},
   "source": [
    "-----\n",
    "### Split Training and Testing Data\n",
    "To evaluate the impact of training and testing data size on model performance, the dataset was randomly split into training and testing sets with varying proportions:  \n",
    "\n",
    "* Case 1: Training set comprises 10% of the entire dataset.  \n",
    "* Case 2: Training set comprises 90% of the entire dataset.  "
   ]
  },
  {
   "cell_type": "code",
   "execution_count": 11,
   "id": "7abf1833",
   "metadata": {},
   "outputs": [
    {
     "name": "stdout",
     "output_type": "stream",
     "text": [
      "Case 1 train shape:  (289, 11)\n",
      "Case 1 test shape:  (2610, 11)\n",
      "Case 2 train shape:  (2609, 11)\n",
      "Case 2 test shape:  (290, 11)\n"
     ]
    }
   ],
   "source": [
    "# Case 1 \n",
    "train_case1, test_case1 = train_test_split(df, test_size=0.9, random_state=142)\n",
    "print('Case 1 train shape: ', train_case1.shape)\n",
    "print('Case 1 test shape: ', test_case1.shape)\n",
    "\n",
    "# Case 2 \n",
    "train_case2, test_case2 = train_test_split(df, test_size=0.1, random_state=142)\n",
    "print('Case 2 train shape: ', train_case2.shape)\n",
    "print('Case 2 test shape: ', test_case2.shape)"
   ]
  },
  {
   "cell_type": "markdown",
   "id": "50d87ff1",
   "metadata": {},
   "source": [
    "-----\n",
    "### Train Linear Regression Models with Feature Selection under Cases 1 & 2\n",
    "This section focuses on evaluating the impact of feature selection and data partitioning on model performance by training multiple linear regression models under different conditions.\n",
    "\n",
    "1. **Training Four Linear Regression Models:**  \n",
    "   Train models using the following configurations to analyze performance variations:\n",
    "   - **Model A:** Case 1 training/testing data with the two **most correlated** input features.\n",
    "   - **Model B:** Case 1 training/testing data with the two **least correlated** input features.\n",
    "   - **Model C:** Case 2 training/testing data with the two **most correlated** input features.\n",
    "   - **Model D:** Case 2 training/testing data with the two **least correlated** input features.\n",
    "\n",
    "2. **Performance Analysis:**  \n",
    "   - Compare **Model A and Model C** (or **Model B and Model D**) to assess the impact of training/testing data size on performance.  \n",
    "   - Compare **Model A and Model B** (or **Model C and Model D**) to evaluate the effects of feature selection on model accuracy."
   ]
  },
  {
   "cell_type": "code",
   "execution_count": 12,
   "id": "2932a2bf",
   "metadata": {},
   "outputs": [
    {
     "data": {
      "text/plain": [
       "LinearRegression()"
      ]
     },
     "execution_count": 12,
     "metadata": {},
     "output_type": "execute_result"
    }
   ],
   "source": [
    "# Model A \n",
    "regA = linear_model.LinearRegression()\n",
    "\n",
    "X_train_A = train_case1[[\"category_code\",\"review_code\"]] \n",
    "y_train_A = train_case1[\"rating\"]\n",
    "X_test_A = test_case1[[\"category_code\",\"review_code\"]]\n",
    "y_test_A= test_case1[\"rating\"]\n",
    "\n",
    "\n",
    "regA.fit(X_train_A, y_train_A)\n",
    "\n",
    "# Model B \n",
    "regB = linear_model.LinearRegression()\n",
    "\n",
    "X_train_B = train_case1[[\"helpfulness\",\"gender_code\"]] \n",
    "y_train_B = train_case1[\"rating\"]\n",
    "X_test_B = test_case1[[\"helpfulness\",\"gender_code\"]]\n",
    "y_test_B = test_case1[\"rating\"]\n",
    "\n",
    "\n",
    "regB.fit(X_train_B, y_train_B)\n",
    "\n",
    "# Model C\n",
    "regC = linear_model.LinearRegression()\n",
    "\n",
    "X_train_C = train_case2[[\"category_code\",\"review_code\"]] \n",
    "y_train_C = train_case2[\"rating\"]\n",
    "X_test_C = test_case2[[\"category_code\",\"review_code\"]]\n",
    "y_test_C = test_case2[\"rating\"]\n",
    "\n",
    "\n",
    "regC.fit(X_train_C, y_train_C)\n",
    "\n",
    "# Model D\n",
    "regD = linear_model.LinearRegression()\n",
    "\n",
    "X_train_D = train_case2[[\"helpfulness\",\"gender_code\"]] \n",
    "y_train_D = train_case2[\"rating\"]\n",
    "X_test_D = test_case2[[\"helpfulness\",\"gender_code\"]]\n",
    "y_test_D = test_case2[\"rating\"]\n",
    "\n",
    "\n",
    "regD.fit(X_train_D, y_train_D)"
   ]
  },
  {
   "cell_type": "markdown",
   "id": "b2a5f371",
   "metadata": {},
   "source": [
    "----\n",
    "### Evaluate Models\n",
    "Evaluate the performance of the four models with two metrics, including MSE and Root MSE"
   ]
  },
  {
   "cell_type": "code",
   "execution_count": 13,
   "id": "2774394b",
   "metadata": {},
   "outputs": [
    {
     "name": "stdout",
     "output_type": "stream",
     "text": [
      "Model A MSE: 1.7661060021271924\n",
      "Model A Root MSE: 1.3289492097620557\n",
      "Model B MSE: 1.8142164061736321\n",
      "Model B Root MSE: 1.3469285081895148\n",
      "Model C MSE: 1.676161941479957\n",
      "Model C Root MSE: 1.294666729888413\n",
      "Model D MSE: 1.7684952380582883\n",
      "Model D Root MSE: 1.3298478251507908\n"
     ]
    }
   ],
   "source": [
    "# Evaluate Model A\n",
    "predicted_a = regA.predict(X_test_A)\n",
    "mse_a = ((np.array(y_test_A)-predicted_a)**2).sum()/len(y_test_A)\n",
    "root_mse_a = np.sqrt(mse_a)\n",
    "\n",
    "print(\"Model A MSE:\", mse_a)\n",
    "print(\"Model A Root MSE:\", root_mse_a)\n",
    "\n",
    "# Evaluate Model B\n",
    "predicted_b = regB.predict(X_test_B)\n",
    "mse_b = ((np.array(y_test_B)-predicted_b)**2).sum()/len(y_test_B)\n",
    "root_mse_b = np.sqrt(mse_b)\n",
    "\n",
    "print(\"Model B MSE:\", mse_b)\n",
    "print(\"Model B Root MSE:\", root_mse_b)\n",
    "\n",
    "# Evaluate Model C\n",
    "predicted_c = regC.predict(X_test_C)\n",
    "mse_c = ((np.array(y_test_C)-predicted_c)**2).sum()/len(y_test_C)\n",
    "root_mse_c = np.sqrt(mse_c)\n",
    "\n",
    "print(\"Model C MSE:\", mse_c)\n",
    "print(\"Model C Root MSE:\", root_mse_c)\n",
    "\n",
    "# Evaluate Model D\n",
    "predicted_d = regD.predict(X_test_D)\n",
    "mse_d = ((np.array(y_test_D)-predicted_d)**2).sum()/len(y_test_D)\n",
    "root_mse_d = np.sqrt(mse_d)\n",
    "\n",
    "print(\"Model D MSE:\", mse_d)\n",
    "print(\"Model D Root MSE:\", root_mse_d)"
   ]
  },
  {
   "cell_type": "markdown",
   "id": "95141061",
   "metadata": {},
   "source": [
    "---\n",
    "### Visualize, Compare and Analyze the Results"
   ]
  },
  {
   "cell_type": "code",
   "execution_count": 14,
   "id": "76462422",
   "metadata": {},
   "outputs": [
    {
     "data": {
      "text/plain": [
       "<BarContainer object of 4 artists>"
      ]
     },
     "execution_count": 14,
     "metadata": {},
     "output_type": "execute_result"
    },
    {
     "data": {
      "image/png": "[encoded data removed]",
      "text/plain": [
       "<Figure size 1152x288 with 2 Axes>"
      ]
     },
     "metadata": {},
     "output_type": "display_data"
    }
   ],
   "source": [
    "# create dataframe for the mse values and rmse values\n",
    "mse_df = pd.DataFrame({'mse': [mse_a, mse_b, mse_c, mse_d]}, index=['regA', 'regB', 'regC', 'regD']) \n",
    "rmse_df = pd.DataFrame({'rmse': [root_mse_a, root_mse_b, root_mse_c, root_mse_d]}, index=['regA', 'regB', 'regC', 'regD'])   \n",
    "\n",
    "# plot figures to show the mse and rmse results of different cases\n",
    "sns.set(style=\"whitegrid\")\n",
    "plt.figure(figsize=(16,4))\n",
    "plt.subplot(1, 2, 1)\n",
    "plt.ylim(1.6,1.9)\n",
    "plt.xlabel('Models', size=15)\n",
    "plt.ylabel('MSE', size=15)\n",
    "plt.title(\"Comparison on MSE\", size=15)\n",
    "plt.bar(data=mse_df, height='mse', x=['regA', 'regB', 'regC', 'regD'], color='c')\n",
    "plt.subplot(1, 2, 2)\n",
    "plt.ylim(1.1,1.5)\n",
    "plt.xlabel('Models', size=15)\n",
    "plt.ylabel('RMSE', size=15)\n",
    "plt.title(\"Comparison on RMSE\", size=15)\n",
    "plt.bar(data=rmse_df, height='rmse', x=['regA', 'regB', 'regC', 'regD'], color='m')"
   ]
  },
  {
   "cell_type": "markdown",
   "id": "33b49dce",
   "metadata": {},
   "source": [
    "#### Impact of Training/Testing Data Size on Model Performance (Model A vs. Model C)\n",
    "\n",
    "Model A, with a smaller training size (10%), shows higher MSE (1.766) and RMSE (1.328) compared to Model C, which uses a larger training size (90%). A larger training dataset improves prediction accuracy as the model learns from more comprehensive data, while a smaller training size increases the likelihood of errors due to limited learning. This highlights the critical role of training/testing data size in determining model performance."
   ]
  },
  {
   "cell_type": "markdown",
   "id": "cea5bc0a",
   "metadata": {},
   "source": [
    "#### Impacts of Feature Selection on Model Performance  \n",
    "\n",
    "Model C demonstrates superior performance over Model D, achieving lower MSE and RMSE. This outcome aligns with the hypothesis that highly correlated predictor variables (category and review) yield more accurate predictions compared to less correlated features (helpfulness and gender)."
   ]
  },
  {
   "cell_type": "markdown",
   "id": "08530b3f",
   "metadata": {},
   "source": [
    "### Conclusion\n",
    "\n",
    "Model C, trained with 90% of the data and using the most correlated features, outperforms the other models, as indicated by its lowest MSE and RMSE values, which suggest more accurate predictions. This highlights that models with highly correlated features and larger training datasets tend to perform better. However, the minor performance variations across different settings suggest that the chosen input features do not strongly contribute to accurate rating predictions."
   ]
  }
 ],
 "metadata": {
  "kernelspec": {
   "display_name": "Python 3 (ipykernel)",
   "language": "python",
   "name": "python3"
  },
  "language_info": {
   "codemirror_mode": {
    "name": "ipython",
    "version": 3
   },
   "file_extension": ".py",
   "mimetype": "text/x-python",
   "name": "python",
   "nbconvert_exporter": "python",
   "pygments_lexer": "ipython3",
   "version": "3.9.12"
  }
 },
 "nbformat": 4,
 "nbformat_minor": 5
}
